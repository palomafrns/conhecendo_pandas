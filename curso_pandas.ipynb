{
 "cells": [
  {
   "cell_type": "markdown",
   "metadata": {},
   "source": [
    "# Conhecendo a base de dados"
   ]
  },
  {
   "cell_type": "markdown",
   "metadata": {},
   "source": [
    "Importando os dados."
   ]
  },
  {
   "cell_type": "code",
   "execution_count": 63,
   "metadata": {
    "ExecuteTime": {
     "end_time": "2024-03-07T22:40:49.397560800Z",
     "start_time": "2024-03-07T22:40:49.213350Z"
    }
   },
   "outputs": [],
   "source": [
    "import pandas as pd\n",
    "import matplotlib as plt\n",
    "import numpy as np"
   ]
  },
  {
   "cell_type": "code",
   "execution_count": 64,
   "metadata": {
    "ExecuteTime": {
     "end_time": "2024-03-07T22:40:49.973317300Z",
     "start_time": "2024-03-07T22:40:49.213350Z"
    }
   },
   "outputs": [
    {
     "data": {
      "text/plain": "      Tipo;Bairro;Quartos;Vagas;Suites;Area;Valor;Condominio;IPTU\n0              Quitinete;Copacabana;1;0;0;40;1700;500;60         \n1                  Casa;Jardim Botânico;2;0;1;100;7000;;         \n2      Conjunto Comercial/Sala;Barra da Tijuca;0;4;0;...         \n3                 Apartamento;Centro;1;0;0;15;800;390;20         \n4             Apartamento;Higienópolis;1;0;0;48;800;230;         \n...                                                  ...         \n32955               Quitinete;Centro;0;0;0;27;800;350;25         \n32956       Apartamento;Jacarepaguá;3;1;2;78;1800;800;40         \n32957  Apartamento;São Francisco Xavier;2;1;0;48;1400...         \n32958              Apartamento;Leblon;2;0;0;70;3000;760;         \n32959  Conjunto Comercial/Sala;Centro;0;0;0;250;6500;...         \n\n[32960 rows x 1 columns]",
      "text/html": "<div>\n<style scoped>\n    .dataframe tbody tr th:only-of-type {\n        vertical-align: middle;\n    }\n\n    .dataframe tbody tr th {\n        vertical-align: top;\n    }\n\n    .dataframe thead th {\n        text-align: right;\n    }\n</style>\n<table border=\"1\" class=\"dataframe\">\n  <thead>\n    <tr style=\"text-align: right;\">\n      <th></th>\n      <th>Tipo;Bairro;Quartos;Vagas;Suites;Area;Valor;Condominio;IPTU</th>\n    </tr>\n  </thead>\n  <tbody>\n    <tr>\n      <th>0</th>\n      <td>Quitinete;Copacabana;1;0;0;40;1700;500;60</td>\n    </tr>\n    <tr>\n      <th>1</th>\n      <td>Casa;Jardim Botânico;2;0;1;100;7000;;</td>\n    </tr>\n    <tr>\n      <th>2</th>\n      <td>Conjunto Comercial/Sala;Barra da Tijuca;0;4;0;...</td>\n    </tr>\n    <tr>\n      <th>3</th>\n      <td>Apartamento;Centro;1;0;0;15;800;390;20</td>\n    </tr>\n    <tr>\n      <th>4</th>\n      <td>Apartamento;Higienópolis;1;0;0;48;800;230;</td>\n    </tr>\n    <tr>\n      <th>...</th>\n      <td>...</td>\n    </tr>\n    <tr>\n      <th>32955</th>\n      <td>Quitinete;Centro;0;0;0;27;800;350;25</td>\n    </tr>\n    <tr>\n      <th>32956</th>\n      <td>Apartamento;Jacarepaguá;3;1;2;78;1800;800;40</td>\n    </tr>\n    <tr>\n      <th>32957</th>\n      <td>Apartamento;São Francisco Xavier;2;1;0;48;1400...</td>\n    </tr>\n    <tr>\n      <th>32958</th>\n      <td>Apartamento;Leblon;2;0;0;70;3000;760;</td>\n    </tr>\n    <tr>\n      <th>32959</th>\n      <td>Conjunto Comercial/Sala;Centro;0;0;0;250;6500;...</td>\n    </tr>\n  </tbody>\n</table>\n<p>32960 rows × 1 columns</p>\n</div>"
     },
     "execution_count": 64,
     "metadata": {},
     "output_type": "execute_result"
    }
   ],
   "source": [
    "url = 'https://raw.githubusercontent.com/alura-cursos/pandas-conhecendo-a-biblioteca/main/base-de-dados/aluguel.csv'\n",
    "pd.read_csv(url)"
   ]
  },
  {
   "cell_type": "code",
   "execution_count": 65,
   "metadata": {
    "ExecuteTime": {
     "end_time": "2024-03-07T22:40:51.051537400Z",
     "start_time": "2024-03-07T22:40:49.839063500Z"
    }
   },
   "outputs": [
    {
     "data": {
      "text/plain": "                      Tipo           Bairro  Quartos  Vagas  Suites  Area  \\\n0                Quitinete       Copacabana        1      0       0    40   \n1                     Casa  Jardim Botânico        2      0       1   100   \n2  Conjunto Comercial/Sala  Barra da Tijuca        0      4       0   150   \n3              Apartamento           Centro        1      0       0    15   \n4              Apartamento     Higienópolis        1      0       0    48   \n\n    Valor  Condominio    IPTU  \n0  1700.0       500.0    60.0  \n1  7000.0         NaN     NaN  \n2  5200.0      4020.0  1111.0  \n3   800.0       390.0    20.0  \n4   800.0       230.0     NaN  ",
      "text/html": "<div>\n<style scoped>\n    .dataframe tbody tr th:only-of-type {\n        vertical-align: middle;\n    }\n\n    .dataframe tbody tr th {\n        vertical-align: top;\n    }\n\n    .dataframe thead th {\n        text-align: right;\n    }\n</style>\n<table border=\"1\" class=\"dataframe\">\n  <thead>\n    <tr style=\"text-align: right;\">\n      <th></th>\n      <th>Tipo</th>\n      <th>Bairro</th>\n      <th>Quartos</th>\n      <th>Vagas</th>\n      <th>Suites</th>\n      <th>Area</th>\n      <th>Valor</th>\n      <th>Condominio</th>\n      <th>IPTU</th>\n    </tr>\n  </thead>\n  <tbody>\n    <tr>\n      <th>0</th>\n      <td>Quitinete</td>\n      <td>Copacabana</td>\n      <td>1</td>\n      <td>0</td>\n      <td>0</td>\n      <td>40</td>\n      <td>1700.0</td>\n      <td>500.0</td>\n      <td>60.0</td>\n    </tr>\n    <tr>\n      <th>1</th>\n      <td>Casa</td>\n      <td>Jardim Botânico</td>\n      <td>2</td>\n      <td>0</td>\n      <td>1</td>\n      <td>100</td>\n      <td>7000.0</td>\n      <td>NaN</td>\n      <td>NaN</td>\n    </tr>\n    <tr>\n      <th>2</th>\n      <td>Conjunto Comercial/Sala</td>\n      <td>Barra da Tijuca</td>\n      <td>0</td>\n      <td>4</td>\n      <td>0</td>\n      <td>150</td>\n      <td>5200.0</td>\n      <td>4020.0</td>\n      <td>1111.0</td>\n    </tr>\n    <tr>\n      <th>3</th>\n      <td>Apartamento</td>\n      <td>Centro</td>\n      <td>1</td>\n      <td>0</td>\n      <td>0</td>\n      <td>15</td>\n      <td>800.0</td>\n      <td>390.0</td>\n      <td>20.0</td>\n    </tr>\n    <tr>\n      <th>4</th>\n      <td>Apartamento</td>\n      <td>Higienópolis</td>\n      <td>1</td>\n      <td>0</td>\n      <td>0</td>\n      <td>48</td>\n      <td>800.0</td>\n      <td>230.0</td>\n      <td>NaN</td>\n    </tr>\n  </tbody>\n</table>\n</div>"
     },
     "execution_count": 65,
     "metadata": {},
     "output_type": "execute_result"
    }
   ],
   "source": [
    "dados = pd.read_csv(url, sep=';')\n",
    "dados.head()"
   ]
  },
  {
   "cell_type": "code",
   "execution_count": 66,
   "metadata": {
    "ExecuteTime": {
     "end_time": "2024-03-07T22:40:51.056602600Z",
     "start_time": "2024-03-07T22:40:51.049395500Z"
    }
   },
   "outputs": [
    {
     "data": {
      "text/plain": "(32960, 9)"
     },
     "execution_count": 66,
     "metadata": {},
     "output_type": "execute_result"
    }
   ],
   "source": [
    "dados.shape"
   ]
  },
  {
   "cell_type": "code",
   "execution_count": 67,
   "metadata": {
    "ExecuteTime": {
     "end_time": "2024-03-07T22:40:51.106315800Z",
     "start_time": "2024-03-07T22:40:51.056602600Z"
    }
   },
   "outputs": [
    {
     "data": {
      "text/plain": "Index(['Tipo', 'Bairro', 'Quartos', 'Vagas', 'Suites', 'Area', 'Valor',\n       'Condominio', 'IPTU'],\n      dtype='object')"
     },
     "execution_count": 67,
     "metadata": {},
     "output_type": "execute_result"
    }
   ],
   "source": [
    "dados.columns"
   ]
  },
  {
   "cell_type": "code",
   "execution_count": 68,
   "metadata": {
    "ExecuteTime": {
     "end_time": "2024-03-07T22:40:51.180420800Z",
     "start_time": "2024-03-07T22:40:51.073951800Z"
    }
   },
   "outputs": [
    {
     "name": "stdout",
     "output_type": "stream",
     "text": [
      "<class 'pandas.core.frame.DataFrame'>\n",
      "RangeIndex: 32960 entries, 0 to 32959\n",
      "Data columns (total 9 columns):\n",
      " #   Column      Non-Null Count  Dtype  \n",
      "---  ------      --------------  -----  \n",
      " 0   Tipo        32960 non-null  object \n",
      " 1   Bairro      32960 non-null  object \n",
      " 2   Quartos     32960 non-null  int64  \n",
      " 3   Vagas       32960 non-null  int64  \n",
      " 4   Suites      32960 non-null  int64  \n",
      " 5   Area        32960 non-null  int64  \n",
      " 6   Valor       32943 non-null  float64\n",
      " 7   Condominio  28867 non-null  float64\n",
      " 8   IPTU        22723 non-null  float64\n",
      "dtypes: float64(3), int64(4), object(2)\n",
      "memory usage: 2.3+ MB\n"
     ]
    }
   ],
   "source": [
    "dados.info()"
   ]
  },
  {
   "cell_type": "code",
   "execution_count": 69,
   "metadata": {
    "ExecuteTime": {
     "end_time": "2024-03-07T22:40:51.182412200Z",
     "start_time": "2024-03-07T22:40:51.091045700Z"
    }
   },
   "outputs": [
    {
     "data": {
      "text/plain": "0                      Quitinete\n1                           Casa\n2        Conjunto Comercial/Sala\n3                    Apartamento\n4                    Apartamento\n                  ...           \n32955                  Quitinete\n32956                Apartamento\n32957                Apartamento\n32958                Apartamento\n32959    Conjunto Comercial/Sala\nName: Tipo, Length: 32960, dtype: object"
     },
     "execution_count": 69,
     "metadata": {},
     "output_type": "execute_result"
    }
   ],
   "source": [
    "dados['Tipo']"
   ]
  },
  {
   "cell_type": "code",
   "execution_count": 70,
   "metadata": {
    "ExecuteTime": {
     "end_time": "2024-03-07T22:40:51.228373500Z",
     "start_time": "2024-03-07T22:40:51.098821Z"
    }
   },
   "outputs": [
    {
     "data": {
      "text/plain": "       Quartos   Valor\n0            1  1700.0\n1            2  7000.0\n2            0  5200.0\n3            1   800.0\n4            1   800.0\n...        ...     ...\n32955        0   800.0\n32956        3  1800.0\n32957        2  1400.0\n32958        2  3000.0\n32959        0  6500.0\n\n[32960 rows x 2 columns]",
      "text/html": "<div>\n<style scoped>\n    .dataframe tbody tr th:only-of-type {\n        vertical-align: middle;\n    }\n\n    .dataframe tbody tr th {\n        vertical-align: top;\n    }\n\n    .dataframe thead th {\n        text-align: right;\n    }\n</style>\n<table border=\"1\" class=\"dataframe\">\n  <thead>\n    <tr style=\"text-align: right;\">\n      <th></th>\n      <th>Quartos</th>\n      <th>Valor</th>\n    </tr>\n  </thead>\n  <tbody>\n    <tr>\n      <th>0</th>\n      <td>1</td>\n      <td>1700.0</td>\n    </tr>\n    <tr>\n      <th>1</th>\n      <td>2</td>\n      <td>7000.0</td>\n    </tr>\n    <tr>\n      <th>2</th>\n      <td>0</td>\n      <td>5200.0</td>\n    </tr>\n    <tr>\n      <th>3</th>\n      <td>1</td>\n      <td>800.0</td>\n    </tr>\n    <tr>\n      <th>4</th>\n      <td>1</td>\n      <td>800.0</td>\n    </tr>\n    <tr>\n      <th>...</th>\n      <td>...</td>\n      <td>...</td>\n    </tr>\n    <tr>\n      <th>32955</th>\n      <td>0</td>\n      <td>800.0</td>\n    </tr>\n    <tr>\n      <th>32956</th>\n      <td>3</td>\n      <td>1800.0</td>\n    </tr>\n    <tr>\n      <th>32957</th>\n      <td>2</td>\n      <td>1400.0</td>\n    </tr>\n    <tr>\n      <th>32958</th>\n      <td>2</td>\n      <td>3000.0</td>\n    </tr>\n    <tr>\n      <th>32959</th>\n      <td>0</td>\n      <td>6500.0</td>\n    </tr>\n  </tbody>\n</table>\n<p>32960 rows × 2 columns</p>\n</div>"
     },
     "execution_count": 70,
     "metadata": {},
     "output_type": "execute_result"
    }
   ],
   "source": [
    "dados[['Quartos', 'Valor']]"
   ]
  },
  {
   "cell_type": "markdown",
   "metadata": {},
   "source": [
    "# Análise exploratória de dados"
   ]
  },
  {
   "cell_type": "code",
   "execution_count": 71,
   "metadata": {
    "ExecuteTime": {
     "end_time": "2024-03-07T22:40:51.228373500Z",
     "start_time": "2024-03-07T22:40:51.113467100Z"
    }
   },
   "outputs": [
    {
     "data": {
      "text/plain": "12952.659715265761"
     },
     "execution_count": 71,
     "metadata": {},
     "output_type": "execute_result"
    }
   ],
   "source": [
    "# 1. Quais os valores médios de aluguel por tipo de imóvel?\n",
    "\n",
    "dados.head()\n",
    "dados.Valor.mean()"
   ]
  },
  {
   "cell_type": "code",
   "execution_count": 72,
   "metadata": {
    "ExecuteTime": {
     "end_time": "2024-03-07T22:40:51.290153100Z",
     "start_time": "2024-03-07T22:40:51.123258300Z"
    }
   },
   "outputs": [
    {
     "data": {
      "text/plain": "                               Quartos      Vagas     Suites          Area  \\\nTipo                                                                         \nApartamento                   2.481569   1.232388   0.875998    119.790498   \nBox/Garagem                   0.060976   1.304878   0.000000     17.524390   \nCasa                          3.133402   1.795243   1.258532    250.578077   \nCasa Comercial                1.562264   2.203774   0.260377    372.241509   \nCasa de Condomínio            4.007028   3.101406   2.864458    456.161647   \nCasa de Vila                  1.927711   0.389558   0.228916     78.469880   \nChácara                       3.000000   0.000000   0.000000      0.000000   \nConjunto Comercial/Sala       0.040939   2.516801   0.010858    214.472487   \nFlat                          1.415966   0.962185   0.754202     65.483193   \nGalpão/Depósito/Armazém       0.043339   5.587480   0.000000   2514.810594   \nHotel                        25.500000   2.500000  12.000000    885.500000   \nIndústria                     0.000000   0.000000   0.000000     22.000000   \nLoft                          1.117647   0.666667   0.372549     58.372549   \nLoja Shopping/ Ct Comercial   0.044534   6.874494   0.008097     88.109312   \nLoja/Salão                    0.010519   1.217391   0.043478    228.852034   \nLoteamento/Condomínio         0.000000   0.000000   0.000000   2069.000000   \nPousada/Chalé                23.000000   0.000000  23.000000    862.000000   \nPrédio Inteiro                0.335548  11.199336   0.019934   1773.837209   \nQuitinete                     0.834928   0.017943   0.037081     28.954545   \nStudio                        0.500000   0.250000   0.000000    103.250000   \nSítio                         5.100000   1.000000   3.800000  15217.000000   \nTerreno Padrão                0.042857   0.057143   0.000000   5044.814286   \n\n                                     Valor    Condominio           IPTU  \nTipo                                                                     \nApartamento                    4744.614648   1722.653697     686.170413  \nBox/Garagem                    1899.756098    305.450000     125.846154  \nCasa                           6793.454922    931.280952    1582.506394  \nCasa Comercial                14478.264151   1935.709677    1707.386740  \nCasa de Condomínio            11952.061245   1342.025527    3252.517730  \nCasa de Vila                   1574.369478    138.768421     183.878788  \nChácara                        4900.000000           NaN            NaN  \nConjunto Comercial/Sala       14715.045521   4512.218100    1399.596571  \nFlat                           4546.189076   2027.720554     493.166667  \nGalpão/Depósito/Armazém       53407.062600  10560.308824    5050.465241  \nHotel                         25000.000000           NaN    6202.000000  \nIndústria                    120000.000000           NaN            NaN  \nLoft                           2557.882353    869.239130     238.243243  \nLoja Shopping/ Ct Comercial    8126.178862   1790.109005    1052.415459  \nLoja/Salão                    13769.646770   2605.601954    2670.331409  \nLoteamento/Condomínio         22000.000000           NaN    4885.000000  \nPousada/Chalé                  1480.000000    295.000000            NaN  \nPrédio Inteiro               498637.239203  55066.750000  165480.022472  \nQuitinete                      1246.840909    427.341969      75.790741  \nStudio                         2400.000000    549.000000     151.250000  \nSítio                         12499.000000           NaN    5848.800000  \nTerreno Padrão                32567.714286      1.000000    5138.170732  ",
      "text/html": "<div>\n<style scoped>\n    .dataframe tbody tr th:only-of-type {\n        vertical-align: middle;\n    }\n\n    .dataframe tbody tr th {\n        vertical-align: top;\n    }\n\n    .dataframe thead th {\n        text-align: right;\n    }\n</style>\n<table border=\"1\" class=\"dataframe\">\n  <thead>\n    <tr style=\"text-align: right;\">\n      <th></th>\n      <th>Quartos</th>\n      <th>Vagas</th>\n      <th>Suites</th>\n      <th>Area</th>\n      <th>Valor</th>\n      <th>Condominio</th>\n      <th>IPTU</th>\n    </tr>\n    <tr>\n      <th>Tipo</th>\n      <th></th>\n      <th></th>\n      <th></th>\n      <th></th>\n      <th></th>\n      <th></th>\n      <th></th>\n    </tr>\n  </thead>\n  <tbody>\n    <tr>\n      <th>Apartamento</th>\n      <td>2.481569</td>\n      <td>1.232388</td>\n      <td>0.875998</td>\n      <td>119.790498</td>\n      <td>4744.614648</td>\n      <td>1722.653697</td>\n      <td>686.170413</td>\n    </tr>\n    <tr>\n      <th>Box/Garagem</th>\n      <td>0.060976</td>\n      <td>1.304878</td>\n      <td>0.000000</td>\n      <td>17.524390</td>\n      <td>1899.756098</td>\n      <td>305.450000</td>\n      <td>125.846154</td>\n    </tr>\n    <tr>\n      <th>Casa</th>\n      <td>3.133402</td>\n      <td>1.795243</td>\n      <td>1.258532</td>\n      <td>250.578077</td>\n      <td>6793.454922</td>\n      <td>931.280952</td>\n      <td>1582.506394</td>\n    </tr>\n    <tr>\n      <th>Casa Comercial</th>\n      <td>1.562264</td>\n      <td>2.203774</td>\n      <td>0.260377</td>\n      <td>372.241509</td>\n      <td>14478.264151</td>\n      <td>1935.709677</td>\n      <td>1707.386740</td>\n    </tr>\n    <tr>\n      <th>Casa de Condomínio</th>\n      <td>4.007028</td>\n      <td>3.101406</td>\n      <td>2.864458</td>\n      <td>456.161647</td>\n      <td>11952.061245</td>\n      <td>1342.025527</td>\n      <td>3252.517730</td>\n    </tr>\n    <tr>\n      <th>Casa de Vila</th>\n      <td>1.927711</td>\n      <td>0.389558</td>\n      <td>0.228916</td>\n      <td>78.469880</td>\n      <td>1574.369478</td>\n      <td>138.768421</td>\n      <td>183.878788</td>\n    </tr>\n    <tr>\n      <th>Chácara</th>\n      <td>3.000000</td>\n      <td>0.000000</td>\n      <td>0.000000</td>\n      <td>0.000000</td>\n      <td>4900.000000</td>\n      <td>NaN</td>\n      <td>NaN</td>\n    </tr>\n    <tr>\n      <th>Conjunto Comercial/Sala</th>\n      <td>0.040939</td>\n      <td>2.516801</td>\n      <td>0.010858</td>\n      <td>214.472487</td>\n      <td>14715.045521</td>\n      <td>4512.218100</td>\n      <td>1399.596571</td>\n    </tr>\n    <tr>\n      <th>Flat</th>\n      <td>1.415966</td>\n      <td>0.962185</td>\n      <td>0.754202</td>\n      <td>65.483193</td>\n      <td>4546.189076</td>\n      <td>2027.720554</td>\n      <td>493.166667</td>\n    </tr>\n    <tr>\n      <th>Galpão/Depósito/Armazém</th>\n      <td>0.043339</td>\n      <td>5.587480</td>\n      <td>0.000000</td>\n      <td>2514.810594</td>\n      <td>53407.062600</td>\n      <td>10560.308824</td>\n      <td>5050.465241</td>\n    </tr>\n    <tr>\n      <th>Hotel</th>\n      <td>25.500000</td>\n      <td>2.500000</td>\n      <td>12.000000</td>\n      <td>885.500000</td>\n      <td>25000.000000</td>\n      <td>NaN</td>\n      <td>6202.000000</td>\n    </tr>\n    <tr>\n      <th>Indústria</th>\n      <td>0.000000</td>\n      <td>0.000000</td>\n      <td>0.000000</td>\n      <td>22.000000</td>\n      <td>120000.000000</td>\n      <td>NaN</td>\n      <td>NaN</td>\n    </tr>\n    <tr>\n      <th>Loft</th>\n      <td>1.117647</td>\n      <td>0.666667</td>\n      <td>0.372549</td>\n      <td>58.372549</td>\n      <td>2557.882353</td>\n      <td>869.239130</td>\n      <td>238.243243</td>\n    </tr>\n    <tr>\n      <th>Loja Shopping/ Ct Comercial</th>\n      <td>0.044534</td>\n      <td>6.874494</td>\n      <td>0.008097</td>\n      <td>88.109312</td>\n      <td>8126.178862</td>\n      <td>1790.109005</td>\n      <td>1052.415459</td>\n    </tr>\n    <tr>\n      <th>Loja/Salão</th>\n      <td>0.010519</td>\n      <td>1.217391</td>\n      <td>0.043478</td>\n      <td>228.852034</td>\n      <td>13769.646770</td>\n      <td>2605.601954</td>\n      <td>2670.331409</td>\n    </tr>\n    <tr>\n      <th>Loteamento/Condomínio</th>\n      <td>0.000000</td>\n      <td>0.000000</td>\n      <td>0.000000</td>\n      <td>2069.000000</td>\n      <td>22000.000000</td>\n      <td>NaN</td>\n      <td>4885.000000</td>\n    </tr>\n    <tr>\n      <th>Pousada/Chalé</th>\n      <td>23.000000</td>\n      <td>0.000000</td>\n      <td>23.000000</td>\n      <td>862.000000</td>\n      <td>1480.000000</td>\n      <td>295.000000</td>\n      <td>NaN</td>\n    </tr>\n    <tr>\n      <th>Prédio Inteiro</th>\n      <td>0.335548</td>\n      <td>11.199336</td>\n      <td>0.019934</td>\n      <td>1773.837209</td>\n      <td>498637.239203</td>\n      <td>55066.750000</td>\n      <td>165480.022472</td>\n    </tr>\n    <tr>\n      <th>Quitinete</th>\n      <td>0.834928</td>\n      <td>0.017943</td>\n      <td>0.037081</td>\n      <td>28.954545</td>\n      <td>1246.840909</td>\n      <td>427.341969</td>\n      <td>75.790741</td>\n    </tr>\n    <tr>\n      <th>Studio</th>\n      <td>0.500000</td>\n      <td>0.250000</td>\n      <td>0.000000</td>\n      <td>103.250000</td>\n      <td>2400.000000</td>\n      <td>549.000000</td>\n      <td>151.250000</td>\n    </tr>\n    <tr>\n      <th>Sítio</th>\n      <td>5.100000</td>\n      <td>1.000000</td>\n      <td>3.800000</td>\n      <td>15217.000000</td>\n      <td>12499.000000</td>\n      <td>NaN</td>\n      <td>5848.800000</td>\n    </tr>\n    <tr>\n      <th>Terreno Padrão</th>\n      <td>0.042857</td>\n      <td>0.057143</td>\n      <td>0.000000</td>\n      <td>5044.814286</td>\n      <td>32567.714286</td>\n      <td>1.000000</td>\n      <td>5138.170732</td>\n    </tr>\n  </tbody>\n</table>\n</div>"
     },
     "execution_count": 72,
     "metadata": {},
     "output_type": "execute_result"
    }
   ],
   "source": [
    "dados.groupby('Tipo').mean(numeric_only=True)"
   ]
  },
  {
   "cell_type": "code",
   "execution_count": 73,
   "metadata": {
    "ExecuteTime": {
     "end_time": "2024-03-07T22:40:51.293144300Z",
     "start_time": "2024-03-07T22:40:51.141077200Z"
    }
   },
   "outputs": [
    {
     "data": {
      "text/plain": "Tipo\nApartamento                      4744.614648\nBox/Garagem                      1899.756098\nCasa                             6793.454922\nCasa Comercial                  14478.264151\nCasa de Condomínio              11952.061245\nCasa de Vila                     1574.369478\nChácara                          4900.000000\nConjunto Comercial/Sala         14715.045521\nFlat                             4546.189076\nGalpão/Depósito/Armazém         53407.062600\nHotel                           25000.000000\nIndústria                      120000.000000\nLoft                             2557.882353\nLoja Shopping/ Ct Comercial      8126.178862\nLoja/Salão                      13769.646770\nLoteamento/Condomínio           22000.000000\nPousada/Chalé                    1480.000000\nPrédio Inteiro                 498637.239203\nQuitinete                        1246.840909\nStudio                           2400.000000\nSítio                           12499.000000\nTerreno Padrão                  32567.714286\nName: Valor, dtype: float64"
     },
     "execution_count": 73,
     "metadata": {},
     "output_type": "execute_result"
    }
   ],
   "source": [
    "dados.groupby('Tipo')['Valor'].mean()"
   ]
  },
  {
   "cell_type": "code",
   "execution_count": 74,
   "metadata": {
    "ExecuteTime": {
     "end_time": "2024-03-07T22:40:51.322037800Z",
     "start_time": "2024-03-07T22:40:51.155303600Z"
    }
   },
   "outputs": [
    {
     "data": {
      "text/plain": "                                     Valor\nTipo                                      \nQuitinete                      1246.840909\nPousada/Chalé                  1480.000000\nCasa de Vila                   1574.369478\nBox/Garagem                    1899.756098\nStudio                         2400.000000\nLoft                           2557.882353\nFlat                           4546.189076\nApartamento                    4744.614648\nChácara                        4900.000000\nCasa                           6793.454922\nLoja Shopping/ Ct Comercial    8126.178862\nCasa de Condomínio            11952.061245\nSítio                         12499.000000\nLoja/Salão                    13769.646770\nCasa Comercial                14478.264151\nConjunto Comercial/Sala       14715.045521\nLoteamento/Condomínio         22000.000000\nHotel                         25000.000000\nTerreno Padrão                32567.714286\nGalpão/Depósito/Armazém       53407.062600\nIndústria                    120000.000000\nPrédio Inteiro               498637.239203",
      "text/html": "<div>\n<style scoped>\n    .dataframe tbody tr th:only-of-type {\n        vertical-align: middle;\n    }\n\n    .dataframe tbody tr th {\n        vertical-align: top;\n    }\n\n    .dataframe thead th {\n        text-align: right;\n    }\n</style>\n<table border=\"1\" class=\"dataframe\">\n  <thead>\n    <tr style=\"text-align: right;\">\n      <th></th>\n      <th>Valor</th>\n    </tr>\n    <tr>\n      <th>Tipo</th>\n      <th></th>\n    </tr>\n  </thead>\n  <tbody>\n    <tr>\n      <th>Quitinete</th>\n      <td>1246.840909</td>\n    </tr>\n    <tr>\n      <th>Pousada/Chalé</th>\n      <td>1480.000000</td>\n    </tr>\n    <tr>\n      <th>Casa de Vila</th>\n      <td>1574.369478</td>\n    </tr>\n    <tr>\n      <th>Box/Garagem</th>\n      <td>1899.756098</td>\n    </tr>\n    <tr>\n      <th>Studio</th>\n      <td>2400.000000</td>\n    </tr>\n    <tr>\n      <th>Loft</th>\n      <td>2557.882353</td>\n    </tr>\n    <tr>\n      <th>Flat</th>\n      <td>4546.189076</td>\n    </tr>\n    <tr>\n      <th>Apartamento</th>\n      <td>4744.614648</td>\n    </tr>\n    <tr>\n      <th>Chácara</th>\n      <td>4900.000000</td>\n    </tr>\n    <tr>\n      <th>Casa</th>\n      <td>6793.454922</td>\n    </tr>\n    <tr>\n      <th>Loja Shopping/ Ct Comercial</th>\n      <td>8126.178862</td>\n    </tr>\n    <tr>\n      <th>Casa de Condomínio</th>\n      <td>11952.061245</td>\n    </tr>\n    <tr>\n      <th>Sítio</th>\n      <td>12499.000000</td>\n    </tr>\n    <tr>\n      <th>Loja/Salão</th>\n      <td>13769.646770</td>\n    </tr>\n    <tr>\n      <th>Casa Comercial</th>\n      <td>14478.264151</td>\n    </tr>\n    <tr>\n      <th>Conjunto Comercial/Sala</th>\n      <td>14715.045521</td>\n    </tr>\n    <tr>\n      <th>Loteamento/Condomínio</th>\n      <td>22000.000000</td>\n    </tr>\n    <tr>\n      <th>Hotel</th>\n      <td>25000.000000</td>\n    </tr>\n    <tr>\n      <th>Terreno Padrão</th>\n      <td>32567.714286</td>\n    </tr>\n    <tr>\n      <th>Galpão/Depósito/Armazém</th>\n      <td>53407.062600</td>\n    </tr>\n    <tr>\n      <th>Indústria</th>\n      <td>120000.000000</td>\n    </tr>\n    <tr>\n      <th>Prédio Inteiro</th>\n      <td>498637.239203</td>\n    </tr>\n  </tbody>\n</table>\n</div>"
     },
     "execution_count": 74,
     "metadata": {},
     "output_type": "execute_result"
    }
   ],
   "source": [
    "dados.groupby('Tipo')[['Valor']].mean() # visualizar em um dataframe\n",
    "\n",
    "df_preco_tipo = dados.groupby('Tipo')[['Valor']].mean().sort_values('Valor').sort_values('Valor') # ordenar em ordem crescente\n",
    "df_preco_tipo"
   ]
  },
  {
   "cell_type": "code",
   "execution_count": 75,
   "metadata": {
    "ExecuteTime": {
     "end_time": "2024-03-07T22:40:51.580392Z",
     "start_time": "2024-03-07T22:40:51.174250300Z"
    }
   },
   "outputs": [
    {
     "data": {
      "text/plain": "<Axes: ylabel='Tipo'>"
     },
     "execution_count": 75,
     "metadata": {},
     "output_type": "execute_result"
    },
    {
     "data": {
      "text/plain": "<Figure size 1400x1000 with 1 Axes>",
      "image/png": "[encoded data removed]"
     },
     "metadata": {},
     "output_type": "display_data"
    }
   ],
   "source": [
    "df_preco_tipo.plot(kind='barh', figsize=(14, 10), color='blue')"
   ]
  },
  {
   "cell_type": "markdown",
   "metadata": {},
   "source": [
    "## Removendo os imóveis comerciais:"
   ]
  },
  {
   "cell_type": "code",
   "execution_count": 76,
   "metadata": {
    "ExecuteTime": {
     "end_time": "2024-03-07T22:40:51.581428300Z",
     "start_time": "2024-03-07T22:40:51.473382700Z"
    }
   },
   "outputs": [
    {
     "data": {
      "text/plain": "array(['Quitinete', 'Casa', 'Conjunto Comercial/Sala', 'Apartamento',\n       'Casa de Condomínio', 'Prédio Inteiro', 'Flat', 'Loja/Salão',\n       'Galpão/Depósito/Armazém', 'Casa Comercial', 'Casa de Vila',\n       'Terreno Padrão', 'Box/Garagem', 'Loft',\n       'Loja Shopping/ Ct Comercial', 'Chácara', 'Loteamento/Condomínio',\n       'Sítio', 'Pousada/Chalé', 'Studio', 'Hotel', 'Indústria'],\n      dtype=object)"
     },
     "execution_count": 76,
     "metadata": {},
     "output_type": "execute_result"
    }
   ],
   "source": [
    "dados.Tipo.unique()"
   ]
  },
  {
   "cell_type": "code",
   "execution_count": 77,
   "metadata": {
    "ExecuteTime": {
     "end_time": "2024-03-07T22:40:51.581428300Z",
     "start_time": "2024-03-07T22:40:51.482238800Z"
    }
   },
   "outputs": [],
   "source": [
    "imoveis_comerciais = ['Conjunto Comercial/Sala',\n",
    "                      'Prédio Inteiro', 'Loja/Salão',\n",
    "                      'Galpão/Depósito/Armazém',\n",
    "                      'Casa Comercial', 'Terreno Padrão',\n",
    "                      'Loja Shopping/ Ct Comercial',\n",
    "                      'Box/Garagem', 'Chácara',\n",
    "                      'Loteamento/Condomínio', 'Sítio',\n",
    "                      'Pousada/Chalé', 'Hotel', 'Indústria']"
   ]
  },
  {
   "cell_type": "code",
   "execution_count": 78,
   "metadata": {
    "ExecuteTime": {
     "end_time": "2024-03-07T22:40:51.646940500Z",
     "start_time": "2024-03-07T22:40:51.489346800Z"
    }
   },
   "outputs": [
    {
     "data": {
      "text/plain": "                          Tipo           Bairro  Quartos  Vagas  Suites  Area  \\\n2      Conjunto Comercial/Sala  Barra da Tijuca        0      4       0   150   \n9      Conjunto Comercial/Sala           Centro        0      3       0   695   \n16              Prédio Inteiro         Botafogo        0      0       0   536   \n26     Conjunto Comercial/Sala    São Cristóvão        0      1       0    25   \n29                  Loja/Salão     Campo Grande        0      1       0    35   \n...                        ...              ...      ...    ...     ...   ...   \n32942  Conjunto Comercial/Sala  Barra da Tijuca        0      1       0    55   \n32946  Conjunto Comercial/Sala           Centro        0      0       0   140   \n32948  Conjunto Comercial/Sala           Centro        0      0       0    32   \n32954              Box/Garagem           Centro        0      0       0   755   \n32959  Conjunto Comercial/Sala           Centro        0      0       0   250   \n\n         Valor  Condominio    IPTU  \n2       5200.0      4020.0  1111.0  \n9      35000.0     19193.0  3030.0  \n16     28000.0         NaN  3563.0  \n26      1100.0       600.0     NaN  \n29      1300.0       950.0     NaN  \n...        ...         ...     ...  \n32942   2000.0      1096.0     NaN  \n32946   4000.0      1412.0   496.0  \n32948    600.0      1035.0    83.0  \n32954  14000.0         NaN     NaN  \n32959   6500.0      4206.0  1109.0  \n\n[9849 rows x 9 columns]",
      "text/html": "<div>\n<style scoped>\n    .dataframe tbody tr th:only-of-type {\n        vertical-align: middle;\n    }\n\n    .dataframe tbody tr th {\n        vertical-align: top;\n    }\n\n    .dataframe thead th {\n        text-align: right;\n    }\n</style>\n<table border=\"1\" class=\"dataframe\">\n  <thead>\n    <tr style=\"text-align: right;\">\n      <th></th>\n      <th>Tipo</th>\n      <th>Bairro</th>\n      <th>Quartos</th>\n      <th>Vagas</th>\n      <th>Suites</th>\n      <th>Area</th>\n      <th>Valor</th>\n      <th>Condominio</th>\n      <th>IPTU</th>\n    </tr>\n  </thead>\n  <tbody>\n    <tr>\n      <th>2</th>\n      <td>Conjunto Comercial/Sala</td>\n      <td>Barra da Tijuca</td>\n      <td>0</td>\n      <td>4</td>\n      <td>0</td>\n      <td>150</td>\n      <td>5200.0</td>\n      <td>4020.0</td>\n      <td>1111.0</td>\n    </tr>\n    <tr>\n      <th>9</th>\n      <td>Conjunto Comercial/Sala</td>\n      <td>Centro</td>\n      <td>0</td>\n      <td>3</td>\n      <td>0</td>\n      <td>695</td>\n      <td>35000.0</td>\n      <td>19193.0</td>\n      <td>3030.0</td>\n    </tr>\n    <tr>\n      <th>16</th>\n      <td>Prédio Inteiro</td>\n      <td>Botafogo</td>\n      <td>0</td>\n      <td>0</td>\n      <td>0</td>\n      <td>536</td>\n      <td>28000.0</td>\n      <td>NaN</td>\n      <td>3563.0</td>\n    </tr>\n    <tr>\n      <th>26</th>\n      <td>Conjunto Comercial/Sala</td>\n      <td>São Cristóvão</td>\n      <td>0</td>\n      <td>1</td>\n      <td>0</td>\n      <td>25</td>\n      <td>1100.0</td>\n      <td>600.0</td>\n      <td>NaN</td>\n    </tr>\n    <tr>\n      <th>29</th>\n      <td>Loja/Salão</td>\n      <td>Campo Grande</td>\n      <td>0</td>\n      <td>1</td>\n      <td>0</td>\n      <td>35</td>\n      <td>1300.0</td>\n      <td>950.0</td>\n      <td>NaN</td>\n    </tr>\n    <tr>\n      <th>...</th>\n      <td>...</td>\n      <td>...</td>\n      <td>...</td>\n      <td>...</td>\n      <td>...</td>\n      <td>...</td>\n      <td>...</td>\n      <td>...</td>\n      <td>...</td>\n    </tr>\n    <tr>\n      <th>32942</th>\n      <td>Conjunto Comercial/Sala</td>\n      <td>Barra da Tijuca</td>\n      <td>0</td>\n      <td>1</td>\n      <td>0</td>\n      <td>55</td>\n      <td>2000.0</td>\n      <td>1096.0</td>\n      <td>NaN</td>\n    </tr>\n    <tr>\n      <th>32946</th>\n      <td>Conjunto Comercial/Sala</td>\n      <td>Centro</td>\n      <td>0</td>\n      <td>0</td>\n      <td>0</td>\n      <td>140</td>\n      <td>4000.0</td>\n      <td>1412.0</td>\n      <td>496.0</td>\n    </tr>\n    <tr>\n      <th>32948</th>\n      <td>Conjunto Comercial/Sala</td>\n      <td>Centro</td>\n      <td>0</td>\n      <td>0</td>\n      <td>0</td>\n      <td>32</td>\n      <td>600.0</td>\n      <td>1035.0</td>\n      <td>83.0</td>\n    </tr>\n    <tr>\n      <th>32954</th>\n      <td>Box/Garagem</td>\n      <td>Centro</td>\n      <td>0</td>\n      <td>0</td>\n      <td>0</td>\n      <td>755</td>\n      <td>14000.0</td>\n      <td>NaN</td>\n      <td>NaN</td>\n    </tr>\n    <tr>\n      <th>32959</th>\n      <td>Conjunto Comercial/Sala</td>\n      <td>Centro</td>\n      <td>0</td>\n      <td>0</td>\n      <td>0</td>\n      <td>250</td>\n      <td>6500.0</td>\n      <td>4206.0</td>\n      <td>1109.0</td>\n    </tr>\n  </tbody>\n</table>\n<p>9849 rows × 9 columns</p>\n</div>"
     },
     "execution_count": 78,
     "metadata": {},
     "output_type": "execute_result"
    }
   ],
   "source": [
    "dados.query('@imoveis_comerciais in Tipo')"
   ]
  },
  {
   "cell_type": "code",
   "execution_count": 79,
   "metadata": {
    "ExecuteTime": {
     "end_time": "2024-03-07T22:40:51.668939100Z",
     "start_time": "2024-03-07T22:40:51.510769900Z"
    }
   },
   "outputs": [
    {
     "data": {
      "text/plain": "                  Tipo           Bairro  Quartos  Vagas  Suites  Area  \\\n0            Quitinete       Copacabana        1      0       0    40   \n1                 Casa  Jardim Botânico        2      0       1   100   \n3          Apartamento           Centro        1      0       0    15   \n4          Apartamento     Higienópolis        1      0       0    48   \n5          Apartamento     Vista Alegre        3      1       0    70   \n6          Apartamento         Cachambi        2      0       0    50   \n7   Casa de Condomínio  Barra da Tijuca        5      4       5   750   \n8   Casa de Condomínio            Ramos        2      2       0    65   \n10         Apartamento           Centro        1      0       0    36   \n11         Apartamento           Grajaú        2      1       0    70   \n\n      Valor  Condominio  IPTU  \n0    1700.0       500.0  60.0  \n1    7000.0         NaN   NaN  \n3     800.0       390.0  20.0  \n4     800.0       230.0   NaN  \n5    1200.0         NaN   NaN  \n6    1300.0       301.0  17.0  \n7   22000.0         NaN   NaN  \n8    1000.0         NaN   NaN  \n10   1200.0         NaN   NaN  \n11   1500.0       642.0  74.0  ",
      "text/html": "<div>\n<style scoped>\n    .dataframe tbody tr th:only-of-type {\n        vertical-align: middle;\n    }\n\n    .dataframe tbody tr th {\n        vertical-align: top;\n    }\n\n    .dataframe thead th {\n        text-align: right;\n    }\n</style>\n<table border=\"1\" class=\"dataframe\">\n  <thead>\n    <tr style=\"text-align: right;\">\n      <th></th>\n      <th>Tipo</th>\n      <th>Bairro</th>\n      <th>Quartos</th>\n      <th>Vagas</th>\n      <th>Suites</th>\n      <th>Area</th>\n      <th>Valor</th>\n      <th>Condominio</th>\n      <th>IPTU</th>\n    </tr>\n  </thead>\n  <tbody>\n    <tr>\n      <th>0</th>\n      <td>Quitinete</td>\n      <td>Copacabana</td>\n      <td>1</td>\n      <td>0</td>\n      <td>0</td>\n      <td>40</td>\n      <td>1700.0</td>\n      <td>500.0</td>\n      <td>60.0</td>\n    </tr>\n    <tr>\n      <th>1</th>\n      <td>Casa</td>\n      <td>Jardim Botânico</td>\n      <td>2</td>\n      <td>0</td>\n      <td>1</td>\n      <td>100</td>\n      <td>7000.0</td>\n      <td>NaN</td>\n      <td>NaN</td>\n    </tr>\n    <tr>\n      <th>3</th>\n      <td>Apartamento</td>\n      <td>Centro</td>\n      <td>1</td>\n      <td>0</td>\n      <td>0</td>\n      <td>15</td>\n      <td>800.0</td>\n      <td>390.0</td>\n      <td>20.0</td>\n    </tr>\n    <tr>\n      <th>4</th>\n      <td>Apartamento</td>\n      <td>Higienópolis</td>\n      <td>1</td>\n      <td>0</td>\n      <td>0</td>\n      <td>48</td>\n      <td>800.0</td>\n      <td>230.0</td>\n      <td>NaN</td>\n    </tr>\n    <tr>\n      <th>5</th>\n      <td>Apartamento</td>\n      <td>Vista Alegre</td>\n      <td>3</td>\n      <td>1</td>\n      <td>0</td>\n      <td>70</td>\n      <td>1200.0</td>\n      <td>NaN</td>\n      <td>NaN</td>\n    </tr>\n    <tr>\n      <th>6</th>\n      <td>Apartamento</td>\n      <td>Cachambi</td>\n      <td>2</td>\n      <td>0</td>\n      <td>0</td>\n      <td>50</td>\n      <td>1300.0</td>\n      <td>301.0</td>\n      <td>17.0</td>\n    </tr>\n    <tr>\n      <th>7</th>\n      <td>Casa de Condomínio</td>\n      <td>Barra da Tijuca</td>\n      <td>5</td>\n      <td>4</td>\n      <td>5</td>\n      <td>750</td>\n      <td>22000.0</td>\n      <td>NaN</td>\n      <td>NaN</td>\n    </tr>\n    <tr>\n      <th>8</th>\n      <td>Casa de Condomínio</td>\n      <td>Ramos</td>\n      <td>2</td>\n      <td>2</td>\n      <td>0</td>\n      <td>65</td>\n      <td>1000.0</td>\n      <td>NaN</td>\n      <td>NaN</td>\n    </tr>\n    <tr>\n      <th>10</th>\n      <td>Apartamento</td>\n      <td>Centro</td>\n      <td>1</td>\n      <td>0</td>\n      <td>0</td>\n      <td>36</td>\n      <td>1200.0</td>\n      <td>NaN</td>\n      <td>NaN</td>\n    </tr>\n    <tr>\n      <th>11</th>\n      <td>Apartamento</td>\n      <td>Grajaú</td>\n      <td>2</td>\n      <td>1</td>\n      <td>0</td>\n      <td>70</td>\n      <td>1500.0</td>\n      <td>642.0</td>\n      <td>74.0</td>\n    </tr>\n  </tbody>\n</table>\n</div>"
     },
     "execution_count": 79,
     "metadata": {},
     "output_type": "execute_result"
    }
   ],
   "source": [
    "df = dados.query('@imoveis_comerciais not in Tipo')\n",
    "df.head(10)"
   ]
  },
  {
   "cell_type": "code",
   "execution_count": 80,
   "metadata": {
    "ExecuteTime": {
     "end_time": "2024-03-07T22:40:51.727138500Z",
     "start_time": "2024-03-07T22:40:51.524423600Z"
    }
   },
   "outputs": [
    {
     "data": {
      "text/plain": "array(['Quitinete', 'Casa', 'Apartamento', 'Casa de Condomínio', 'Flat',\n       'Casa de Vila', 'Loft', 'Studio'], dtype=object)"
     },
     "execution_count": 80,
     "metadata": {},
     "output_type": "execute_result"
    }
   ],
   "source": [
    "df.Tipo.unique()"
   ]
  },
  {
   "cell_type": "code",
   "execution_count": 81,
   "metadata": {
    "ExecuteTime": {
     "end_time": "2024-03-07T22:40:52.002191500Z",
     "start_time": "2024-03-07T22:40:51.530044800Z"
    }
   },
   "outputs": [
    {
     "data": {
      "text/plain": "<Axes: ylabel='Tipo'>"
     },
     "execution_count": 81,
     "metadata": {},
     "output_type": "execute_result"
    },
    {
     "data": {
      "text/plain": "<Figure size 1400x1000 with 1 Axes>",
      "image/png": "[encoded data removed]"
     },
     "metadata": {},
     "output_type": "display_data"
    }
   ],
   "source": [
    "df_preco_tipo = df.groupby('Tipo').mean(numeric_only=True)[['Valor']].sort_values('Valor')\n",
    "df_preco_tipo.plot(kind='barh', figsize=(14,10), color='blue')"
   ]
  },
  {
   "cell_type": "code",
   "execution_count": 82,
   "metadata": {
    "ExecuteTime": {
     "end_time": "2024-03-07T22:40:52.002191500Z",
     "start_time": "2024-03-07T22:40:51.763880500Z"
    }
   },
   "outputs": [
    {
     "data": {
      "text/plain": "array(['Quitinete', 'Casa', 'Apartamento', 'Casa de Condomínio', 'Flat',\n       'Casa de Vila', 'Loft', 'Studio'], dtype=object)"
     },
     "execution_count": 82,
     "metadata": {},
     "output_type": "execute_result"
    }
   ],
   "source": [
    "# 2. Qual o percentual de cada tipo de imóvel na nossa base de dados?\n",
    "\n",
    "df.Tipo.unique()"
   ]
  },
  {
   "cell_type": "code",
   "execution_count": 83,
   "metadata": {
    "ExecuteTime": {
     "end_time": "2024-03-07T22:40:52.003188500Z",
     "start_time": "2024-03-07T22:40:51.771341500Z"
    }
   },
   "outputs": [
    {
     "data": {
      "text/plain": "Tipo\nApartamento           19532\nCasa de Condomínio      996\nCasa                    967\nQuitinete               836\nFlat                    476\nCasa de Vila            249\nLoft                     51\nStudio                    4\nName: count, dtype: int64"
     },
     "execution_count": 83,
     "metadata": {},
     "output_type": "execute_result"
    }
   ],
   "source": [
    "df.Tipo.value_counts()\n"
   ]
  },
  {
   "cell_type": "code",
   "execution_count": 84,
   "metadata": {
    "ExecuteTime": {
     "end_time": "2024-03-07T22:40:52.003188500Z",
     "start_time": "2024-03-07T22:40:51.821140400Z"
    }
   },
   "outputs": [
    {
     "data": {
      "text/plain": "Tipo\nApartamento           84.5%\nCasa de Condomínio     4.3%\nCasa                   4.2%\nQuitinete              3.6%\nFlat                   2.1%\nCasa de Vila           1.1%\nLoft                   0.2%\nStudio                 0.0%\nName: proportion, dtype: object"
     },
     "execution_count": 84,
     "metadata": {},
     "output_type": "execute_result"
    }
   ],
   "source": [
    "df.Tipo.value_counts(normalize=True).map(\"{:.1%}\".format)"
   ]
  },
  {
   "cell_type": "code",
   "execution_count": 85,
   "metadata": {
    "ExecuteTime": {
     "end_time": "2024-03-07T22:40:52.048699100Z",
     "start_time": "2024-03-07T22:40:51.840642600Z"
    }
   },
   "outputs": [
    {
     "data": {
      "text/plain": "                    proportion\nTipo                          \nApartamento           0.845139\nCasa                  0.041842\nCasa de Condomínio    0.043096\nCasa de Vila          0.010774\nFlat                  0.020596\nLoft                  0.002207\nQuitinete             0.036173\nStudio                0.000173",
      "text/html": "<div>\n<style scoped>\n    .dataframe tbody tr th:only-of-type {\n        vertical-align: middle;\n    }\n\n    .dataframe tbody tr th {\n        vertical-align: top;\n    }\n\n    .dataframe thead th {\n        text-align: right;\n    }\n</style>\n<table border=\"1\" class=\"dataframe\">\n  <thead>\n    <tr style=\"text-align: right;\">\n      <th></th>\n      <th>proportion</th>\n    </tr>\n    <tr>\n      <th>Tipo</th>\n      <th></th>\n    </tr>\n  </thead>\n  <tbody>\n    <tr>\n      <th>Apartamento</th>\n      <td>0.845139</td>\n    </tr>\n    <tr>\n      <th>Casa</th>\n      <td>0.041842</td>\n    </tr>\n    <tr>\n      <th>Casa de Condomínio</th>\n      <td>0.043096</td>\n    </tr>\n    <tr>\n      <th>Casa de Vila</th>\n      <td>0.010774</td>\n    </tr>\n    <tr>\n      <th>Flat</th>\n      <td>0.020596</td>\n    </tr>\n    <tr>\n      <th>Loft</th>\n      <td>0.002207</td>\n    </tr>\n    <tr>\n      <th>Quitinete</th>\n      <td>0.036173</td>\n    </tr>\n    <tr>\n      <th>Studio</th>\n      <td>0.000173</td>\n    </tr>\n  </tbody>\n</table>\n</div>"
     },
     "execution_count": 85,
     "metadata": {},
     "output_type": "execute_result"
    }
   ],
   "source": [
    "df.Tipo.value_counts(normalize=True).to_frame().sort_values('Tipo')"
   ]
  },
  {
   "cell_type": "code",
   "execution_count": 86,
   "metadata": {
    "ExecuteTime": {
     "end_time": "2024-03-07T22:40:52.429680700Z",
     "start_time": "2024-03-07T22:40:51.861139500Z"
    }
   },
   "outputs": [
    {
     "data": {
      "text/plain": "<Figure size 1400x1000 with 1 Axes>",
      "image/png": "[encoded data removed]"
     },
     "metadata": {},
     "output_type": "display_data"
    }
   ],
   "source": [
    "df_percentual_tipo = df.Tipo.value_counts(normalize=True).to_frame().sort_values('Tipo')\n",
    "df_percentual_tipo.plot(kind='bar', figsize=(14, 10), color ='grey', edgecolor='black',\n",
    "                        xlabel = 'Tipos', ylabel = 'Percentual');"
   ]
  },
  {
   "cell_type": "markdown",
   "metadata": {},
   "source": [
    "## Selecionando apenas os imóveis do tipo apartamento:"
   ]
  },
  {
   "cell_type": "code",
   "execution_count": 87,
   "metadata": {
    "ExecuteTime": {
     "end_time": "2024-03-07T22:40:52.431682Z",
     "start_time": "2024-03-07T22:40:52.174624700Z"
    }
   },
   "outputs": [
    {
     "data": {
      "text/plain": "              Tipo                Bairro  Quartos  Vagas  Suites  Area  \\\n3      Apartamento                Centro        1      0       0    15   \n4      Apartamento          Higienópolis        1      0       0    48   \n5      Apartamento          Vista Alegre        3      1       0    70   \n6      Apartamento              Cachambi        2      0       0    50   \n10     Apartamento                Centro        1      0       0    36   \n...            ...                   ...      ...    ...     ...   ...   \n32951  Apartamento        Vila Valqueire        2      0       0    52   \n32953  Apartamento                 Méier        2      0       0    70   \n32956  Apartamento           Jacarepaguá        3      1       2    78   \n32957  Apartamento  São Francisco Xavier        2      1       0    48   \n32958  Apartamento                Leblon        2      0       0    70   \n\n        Valor  Condominio  IPTU  \n3       800.0       390.0  20.0  \n4       800.0       230.0   NaN  \n5      1200.0         NaN   NaN  \n6      1300.0       301.0  17.0  \n10     1200.0         NaN   NaN  \n...       ...         ...   ...  \n32951  1000.0       550.0   NaN  \n32953   900.0       490.0  48.0  \n32956  1800.0       800.0  40.0  \n32957  1400.0       509.0  37.0  \n32958  3000.0       760.0   NaN  \n\n[19532 rows x 9 columns]",
      "text/html": "<div>\n<style scoped>\n    .dataframe tbody tr th:only-of-type {\n        vertical-align: middle;\n    }\n\n    .dataframe tbody tr th {\n        vertical-align: top;\n    }\n\n    .dataframe thead th {\n        text-align: right;\n    }\n</style>\n<table border=\"1\" class=\"dataframe\">\n  <thead>\n    <tr style=\"text-align: right;\">\n      <th></th>\n      <th>Tipo</th>\n      <th>Bairro</th>\n      <th>Quartos</th>\n      <th>Vagas</th>\n      <th>Suites</th>\n      <th>Area</th>\n      <th>Valor</th>\n      <th>Condominio</th>\n      <th>IPTU</th>\n    </tr>\n  </thead>\n  <tbody>\n    <tr>\n      <th>3</th>\n      <td>Apartamento</td>\n      <td>Centro</td>\n      <td>1</td>\n      <td>0</td>\n      <td>0</td>\n      <td>15</td>\n      <td>800.0</td>\n      <td>390.0</td>\n      <td>20.0</td>\n    </tr>\n    <tr>\n      <th>4</th>\n      <td>Apartamento</td>\n      <td>Higienópolis</td>\n      <td>1</td>\n      <td>0</td>\n      <td>0</td>\n      <td>48</td>\n      <td>800.0</td>\n      <td>230.0</td>\n      <td>NaN</td>\n    </tr>\n    <tr>\n      <th>5</th>\n      <td>Apartamento</td>\n      <td>Vista Alegre</td>\n      <td>3</td>\n      <td>1</td>\n      <td>0</td>\n      <td>70</td>\n      <td>1200.0</td>\n      <td>NaN</td>\n      <td>NaN</td>\n    </tr>\n    <tr>\n      <th>6</th>\n      <td>Apartamento</td>\n      <td>Cachambi</td>\n      <td>2</td>\n      <td>0</td>\n      <td>0</td>\n      <td>50</td>\n      <td>1300.0</td>\n      <td>301.0</td>\n      <td>17.0</td>\n    </tr>\n    <tr>\n      <th>10</th>\n      <td>Apartamento</td>\n      <td>Centro</td>\n      <td>1</td>\n      <td>0</td>\n      <td>0</td>\n      <td>36</td>\n      <td>1200.0</td>\n      <td>NaN</td>\n      <td>NaN</td>\n    </tr>\n    <tr>\n      <th>...</th>\n      <td>...</td>\n      <td>...</td>\n      <td>...</td>\n      <td>...</td>\n      <td>...</td>\n      <td>...</td>\n      <td>...</td>\n      <td>...</td>\n      <td>...</td>\n    </tr>\n    <tr>\n      <th>32951</th>\n      <td>Apartamento</td>\n      <td>Vila Valqueire</td>\n      <td>2</td>\n      <td>0</td>\n      <td>0</td>\n      <td>52</td>\n      <td>1000.0</td>\n      <td>550.0</td>\n      <td>NaN</td>\n    </tr>\n    <tr>\n      <th>32953</th>\n      <td>Apartamento</td>\n      <td>Méier</td>\n      <td>2</td>\n      <td>0</td>\n      <td>0</td>\n      <td>70</td>\n      <td>900.0</td>\n      <td>490.0</td>\n      <td>48.0</td>\n    </tr>\n    <tr>\n      <th>32956</th>\n      <td>Apartamento</td>\n      <td>Jacarepaguá</td>\n      <td>3</td>\n      <td>1</td>\n      <td>2</td>\n      <td>78</td>\n      <td>1800.0</td>\n      <td>800.0</td>\n      <td>40.0</td>\n    </tr>\n    <tr>\n      <th>32957</th>\n      <td>Apartamento</td>\n      <td>São Francisco Xavier</td>\n      <td>2</td>\n      <td>1</td>\n      <td>0</td>\n      <td>48</td>\n      <td>1400.0</td>\n      <td>509.0</td>\n      <td>37.0</td>\n    </tr>\n    <tr>\n      <th>32958</th>\n      <td>Apartamento</td>\n      <td>Leblon</td>\n      <td>2</td>\n      <td>0</td>\n      <td>0</td>\n      <td>70</td>\n      <td>3000.0</td>\n      <td>760.0</td>\n      <td>NaN</td>\n    </tr>\n  </tbody>\n</table>\n<p>19532 rows × 9 columns</p>\n</div>"
     },
     "execution_count": 87,
     "metadata": {},
     "output_type": "execute_result"
    }
   ],
   "source": [
    "df.query('Tipo == \"Apartamento\"')"
   ]
  },
  {
   "cell_type": "code",
   "execution_count": 88,
   "metadata": {
    "ExecuteTime": {
     "end_time": "2024-03-07T22:40:52.431682Z",
     "start_time": "2024-03-07T22:40:52.193633100Z"
    }
   },
   "outputs": [
    {
     "data": {
      "text/plain": "           Tipo        Bairro  Quartos  Vagas  Suites  Area   Valor  \\\n3   Apartamento        Centro        1      0       0    15   800.0   \n4   Apartamento  Higienópolis        1      0       0    48   800.0   \n5   Apartamento  Vista Alegre        3      1       0    70  1200.0   \n6   Apartamento      Cachambi        2      0       0    50  1300.0   \n10  Apartamento        Centro        1      0       0    36  1200.0   \n\n    Condominio  IPTU  \n3        390.0  20.0  \n4        230.0   NaN  \n5          NaN   NaN  \n6        301.0  17.0  \n10         NaN   NaN  ",
      "text/html": "<div>\n<style scoped>\n    .dataframe tbody tr th:only-of-type {\n        vertical-align: middle;\n    }\n\n    .dataframe tbody tr th {\n        vertical-align: top;\n    }\n\n    .dataframe thead th {\n        text-align: right;\n    }\n</style>\n<table border=\"1\" class=\"dataframe\">\n  <thead>\n    <tr style=\"text-align: right;\">\n      <th></th>\n      <th>Tipo</th>\n      <th>Bairro</th>\n      <th>Quartos</th>\n      <th>Vagas</th>\n      <th>Suites</th>\n      <th>Area</th>\n      <th>Valor</th>\n      <th>Condominio</th>\n      <th>IPTU</th>\n    </tr>\n  </thead>\n  <tbody>\n    <tr>\n      <th>3</th>\n      <td>Apartamento</td>\n      <td>Centro</td>\n      <td>1</td>\n      <td>0</td>\n      <td>0</td>\n      <td>15</td>\n      <td>800.0</td>\n      <td>390.0</td>\n      <td>20.0</td>\n    </tr>\n    <tr>\n      <th>4</th>\n      <td>Apartamento</td>\n      <td>Higienópolis</td>\n      <td>1</td>\n      <td>0</td>\n      <td>0</td>\n      <td>48</td>\n      <td>800.0</td>\n      <td>230.0</td>\n      <td>NaN</td>\n    </tr>\n    <tr>\n      <th>5</th>\n      <td>Apartamento</td>\n      <td>Vista Alegre</td>\n      <td>3</td>\n      <td>1</td>\n      <td>0</td>\n      <td>70</td>\n      <td>1200.0</td>\n      <td>NaN</td>\n      <td>NaN</td>\n    </tr>\n    <tr>\n      <th>6</th>\n      <td>Apartamento</td>\n      <td>Cachambi</td>\n      <td>2</td>\n      <td>0</td>\n      <td>0</td>\n      <td>50</td>\n      <td>1300.0</td>\n      <td>301.0</td>\n      <td>17.0</td>\n    </tr>\n    <tr>\n      <th>10</th>\n      <td>Apartamento</td>\n      <td>Centro</td>\n      <td>1</td>\n      <td>0</td>\n      <td>0</td>\n      <td>36</td>\n      <td>1200.0</td>\n      <td>NaN</td>\n      <td>NaN</td>\n    </tr>\n  </tbody>\n</table>\n</div>"
     },
     "execution_count": 88,
     "metadata": {},
     "output_type": "execute_result"
    }
   ],
   "source": [
    "df = df.query('Tipo == \"Apartamento\"')\n",
    "df.head()"
   ]
  },
  {
   "cell_type": "markdown",
   "metadata": {},
   "source": [
    "# Tratando e filtrando os dados"
   ]
  },
  {
   "cell_type": "markdown",
   "metadata": {},
   "source": [
    "## Lidando com dados nulos"
   ]
  },
  {
   "cell_type": "code",
   "execution_count": 89,
   "metadata": {
    "ExecuteTime": {
     "end_time": "2024-03-07T22:40:52.432674300Z",
     "start_time": "2024-03-07T22:40:52.214585300Z"
    }
   },
   "outputs": [
    {
     "data": {
      "text/plain": "        Tipo  Bairro  Quartos  Vagas  Suites   Area  Valor  Condominio   IPTU\n3      False   False    False  False   False  False  False       False  False\n4      False   False    False  False   False  False  False       False   True\n5      False   False    False  False   False  False  False        True   True\n6      False   False    False  False   False  False  False       False  False\n10     False   False    False  False   False  False  False        True   True\n...      ...     ...      ...    ...     ...    ...    ...         ...    ...\n32951  False   False    False  False   False  False  False       False   True\n32953  False   False    False  False   False  False  False       False  False\n32956  False   False    False  False   False  False  False       False  False\n32957  False   False    False  False   False  False  False       False  False\n32958  False   False    False  False   False  False  False       False   True\n\n[19532 rows x 9 columns]",
      "text/html": "<div>\n<style scoped>\n    .dataframe tbody tr th:only-of-type {\n        vertical-align: middle;\n    }\n\n    .dataframe tbody tr th {\n        vertical-align: top;\n    }\n\n    .dataframe thead th {\n        text-align: right;\n    }\n</style>\n<table border=\"1\" class=\"dataframe\">\n  <thead>\n    <tr style=\"text-align: right;\">\n      <th></th>\n      <th>Tipo</th>\n      <th>Bairro</th>\n      <th>Quartos</th>\n      <th>Vagas</th>\n      <th>Suites</th>\n      <th>Area</th>\n      <th>Valor</th>\n      <th>Condominio</th>\n      <th>IPTU</th>\n    </tr>\n  </thead>\n  <tbody>\n    <tr>\n      <th>3</th>\n      <td>False</td>\n      <td>False</td>\n      <td>False</td>\n      <td>False</td>\n      <td>False</td>\n      <td>False</td>\n      <td>False</td>\n      <td>False</td>\n      <td>False</td>\n    </tr>\n    <tr>\n      <th>4</th>\n      <td>False</td>\n      <td>False</td>\n      <td>False</td>\n      <td>False</td>\n      <td>False</td>\n      <td>False</td>\n      <td>False</td>\n      <td>False</td>\n      <td>True</td>\n    </tr>\n    <tr>\n      <th>5</th>\n      <td>False</td>\n      <td>False</td>\n      <td>False</td>\n      <td>False</td>\n      <td>False</td>\n      <td>False</td>\n      <td>False</td>\n      <td>True</td>\n      <td>True</td>\n    </tr>\n    <tr>\n      <th>6</th>\n      <td>False</td>\n      <td>False</td>\n      <td>False</td>\n      <td>False</td>\n      <td>False</td>\n      <td>False</td>\n      <td>False</td>\n      <td>False</td>\n      <td>False</td>\n    </tr>\n    <tr>\n      <th>10</th>\n      <td>False</td>\n      <td>False</td>\n      <td>False</td>\n      <td>False</td>\n      <td>False</td>\n      <td>False</td>\n      <td>False</td>\n      <td>True</td>\n      <td>True</td>\n    </tr>\n    <tr>\n      <th>...</th>\n      <td>...</td>\n      <td>...</td>\n      <td>...</td>\n      <td>...</td>\n      <td>...</td>\n      <td>...</td>\n      <td>...</td>\n      <td>...</td>\n      <td>...</td>\n    </tr>\n    <tr>\n      <th>32951</th>\n      <td>False</td>\n      <td>False</td>\n      <td>False</td>\n      <td>False</td>\n      <td>False</td>\n      <td>False</td>\n      <td>False</td>\n      <td>False</td>\n      <td>True</td>\n    </tr>\n    <tr>\n      <th>32953</th>\n      <td>False</td>\n      <td>False</td>\n      <td>False</td>\n      <td>False</td>\n      <td>False</td>\n      <td>False</td>\n      <td>False</td>\n      <td>False</td>\n      <td>False</td>\n    </tr>\n    <tr>\n      <th>32956</th>\n      <td>False</td>\n      <td>False</td>\n      <td>False</td>\n      <td>False</td>\n      <td>False</td>\n      <td>False</td>\n      <td>False</td>\n      <td>False</td>\n      <td>False</td>\n    </tr>\n    <tr>\n      <th>32957</th>\n      <td>False</td>\n      <td>False</td>\n      <td>False</td>\n      <td>False</td>\n      <td>False</td>\n      <td>False</td>\n      <td>False</td>\n      <td>False</td>\n      <td>False</td>\n    </tr>\n    <tr>\n      <th>32958</th>\n      <td>False</td>\n      <td>False</td>\n      <td>False</td>\n      <td>False</td>\n      <td>False</td>\n      <td>False</td>\n      <td>False</td>\n      <td>False</td>\n      <td>True</td>\n    </tr>\n  </tbody>\n</table>\n<p>19532 rows × 9 columns</p>\n</div>"
     },
     "execution_count": 89,
     "metadata": {},
     "output_type": "execute_result"
    }
   ],
   "source": [
    "df.isnull()"
   ]
  },
  {
   "cell_type": "code",
   "execution_count": 90,
   "metadata": {
    "ExecuteTime": {
     "end_time": "2024-03-07T22:40:52.432674300Z",
     "start_time": "2024-03-07T22:40:52.229004900Z"
    }
   },
   "outputs": [
    {
     "data": {
      "text/plain": "Tipo             0\nBairro           0\nQuartos          0\nVagas            0\nSuites           0\nArea             0\nValor            7\nCondominio     745\nIPTU          5472\ndtype: int64"
     },
     "execution_count": 90,
     "metadata": {},
     "output_type": "execute_result"
    }
   ],
   "source": [
    "df.isnull().sum()"
   ]
  },
  {
   "cell_type": "code",
   "execution_count": 91,
   "metadata": {
    "ExecuteTime": {
     "end_time": "2024-03-07T22:40:52.456867200Z",
     "start_time": "2024-03-07T22:40:52.234654700Z"
    }
   },
   "outputs": [
    {
     "data": {
      "text/plain": "              Tipo                Bairro  Quartos  Vagas  Suites  Area  \\\n3      Apartamento                Centro        1      0       0    15   \n4      Apartamento          Higienópolis        1      0       0    48   \n5      Apartamento          Vista Alegre        3      1       0    70   \n6      Apartamento              Cachambi        2      0       0    50   \n10     Apartamento                Centro        1      0       0    36   \n...            ...                   ...      ...    ...     ...   ...   \n32951  Apartamento        Vila Valqueire        2      0       0    52   \n32953  Apartamento                 Méier        2      0       0    70   \n32956  Apartamento           Jacarepaguá        3      1       2    78   \n32957  Apartamento  São Francisco Xavier        2      1       0    48   \n32958  Apartamento                Leblon        2      0       0    70   \n\n        Valor  Condominio  IPTU  \n3       800.0       390.0  20.0  \n4       800.0       230.0   0.0  \n5      1200.0         0.0   0.0  \n6      1300.0       301.0  17.0  \n10     1200.0         0.0   0.0  \n...       ...         ...   ...  \n32951  1000.0       550.0   0.0  \n32953   900.0       490.0  48.0  \n32956  1800.0       800.0  40.0  \n32957  1400.0       509.0  37.0  \n32958  3000.0       760.0   0.0  \n\n[19532 rows x 9 columns]",
      "text/html": "<div>\n<style scoped>\n    .dataframe tbody tr th:only-of-type {\n        vertical-align: middle;\n    }\n\n    .dataframe tbody tr th {\n        vertical-align: top;\n    }\n\n    .dataframe thead th {\n        text-align: right;\n    }\n</style>\n<table border=\"1\" class=\"dataframe\">\n  <thead>\n    <tr style=\"text-align: right;\">\n      <th></th>\n      <th>Tipo</th>\n      <th>Bairro</th>\n      <th>Quartos</th>\n      <th>Vagas</th>\n      <th>Suites</th>\n      <th>Area</th>\n      <th>Valor</th>\n      <th>Condominio</th>\n      <th>IPTU</th>\n    </tr>\n  </thead>\n  <tbody>\n    <tr>\n      <th>3</th>\n      <td>Apartamento</td>\n      <td>Centro</td>\n      <td>1</td>\n      <td>0</td>\n      <td>0</td>\n      <td>15</td>\n      <td>800.0</td>\n      <td>390.0</td>\n      <td>20.0</td>\n    </tr>\n    <tr>\n      <th>4</th>\n      <td>Apartamento</td>\n      <td>Higienópolis</td>\n      <td>1</td>\n      <td>0</td>\n      <td>0</td>\n      <td>48</td>\n      <td>800.0</td>\n      <td>230.0</td>\n      <td>0.0</td>\n    </tr>\n    <tr>\n      <th>5</th>\n      <td>Apartamento</td>\n      <td>Vista Alegre</td>\n      <td>3</td>\n      <td>1</td>\n      <td>0</td>\n      <td>70</td>\n      <td>1200.0</td>\n      <td>0.0</td>\n      <td>0.0</td>\n    </tr>\n    <tr>\n      <th>6</th>\n      <td>Apartamento</td>\n      <td>Cachambi</td>\n      <td>2</td>\n      <td>0</td>\n      <td>0</td>\n      <td>50</td>\n      <td>1300.0</td>\n      <td>301.0</td>\n      <td>17.0</td>\n    </tr>\n    <tr>\n      <th>10</th>\n      <td>Apartamento</td>\n      <td>Centro</td>\n      <td>1</td>\n      <td>0</td>\n      <td>0</td>\n      <td>36</td>\n      <td>1200.0</td>\n      <td>0.0</td>\n      <td>0.0</td>\n    </tr>\n    <tr>\n      <th>...</th>\n      <td>...</td>\n      <td>...</td>\n      <td>...</td>\n      <td>...</td>\n      <td>...</td>\n      <td>...</td>\n      <td>...</td>\n      <td>...</td>\n      <td>...</td>\n    </tr>\n    <tr>\n      <th>32951</th>\n      <td>Apartamento</td>\n      <td>Vila Valqueire</td>\n      <td>2</td>\n      <td>0</td>\n      <td>0</td>\n      <td>52</td>\n      <td>1000.0</td>\n      <td>550.0</td>\n      <td>0.0</td>\n    </tr>\n    <tr>\n      <th>32953</th>\n      <td>Apartamento</td>\n      <td>Méier</td>\n      <td>2</td>\n      <td>0</td>\n      <td>0</td>\n      <td>70</td>\n      <td>900.0</td>\n      <td>490.0</td>\n      <td>48.0</td>\n    </tr>\n    <tr>\n      <th>32956</th>\n      <td>Apartamento</td>\n      <td>Jacarepaguá</td>\n      <td>3</td>\n      <td>1</td>\n      <td>2</td>\n      <td>78</td>\n      <td>1800.0</td>\n      <td>800.0</td>\n      <td>40.0</td>\n    </tr>\n    <tr>\n      <th>32957</th>\n      <td>Apartamento</td>\n      <td>São Francisco Xavier</td>\n      <td>2</td>\n      <td>1</td>\n      <td>0</td>\n      <td>48</td>\n      <td>1400.0</td>\n      <td>509.0</td>\n      <td>37.0</td>\n    </tr>\n    <tr>\n      <th>32958</th>\n      <td>Apartamento</td>\n      <td>Leblon</td>\n      <td>2</td>\n      <td>0</td>\n      <td>0</td>\n      <td>70</td>\n      <td>3000.0</td>\n      <td>760.0</td>\n      <td>0.0</td>\n    </tr>\n  </tbody>\n</table>\n<p>19532 rows × 9 columns</p>\n</div>"
     },
     "execution_count": 91,
     "metadata": {},
     "output_type": "execute_result"
    }
   ],
   "source": [
    "df = df.fillna(0)\n",
    "df"
   ]
  },
  {
   "cell_type": "code",
   "execution_count": 92,
   "metadata": {
    "ExecuteTime": {
     "end_time": "2024-03-07T22:40:52.456867200Z",
     "start_time": "2024-03-07T22:40:52.249502200Z"
    }
   },
   "outputs": [
    {
     "data": {
      "text/plain": "Tipo          0\nBairro        0\nQuartos       0\nVagas         0\nSuites        0\nArea          0\nValor         0\nCondominio    0\nIPTU          0\ndtype: int64"
     },
     "execution_count": 92,
     "metadata": {},
     "output_type": "execute_result"
    }
   ],
   "source": [
    "df.isnull().sum()"
   ]
  },
  {
   "cell_type": "markdown",
   "metadata": {},
   "source": [
    "## Removendo registros"
   ]
  },
  {
   "cell_type": "markdown",
   "source": [],
   "metadata": {
    "collapsed": false
   }
  },
  {
   "cell_type": "code",
   "execution_count": 115,
   "metadata": {
    "ExecuteTime": {
     "end_time": "2024-03-07T22:41:36.397616800Z",
     "start_time": "2024-03-07T22:41:36.375132100Z"
    }
   },
   "outputs": [],
   "source": [
    "# removendo registros nulos\n",
    "registros_a_remover = df.query('Valor == \"0\" | Condominio == 0').index"
   ]
  },
  {
   "cell_type": "code",
   "execution_count": 94,
   "metadata": {
    "ExecuteTime": {
     "end_time": "2024-03-07T22:40:52.457862100Z",
     "start_time": "2024-03-07T22:40:52.270357800Z"
    }
   },
   "outputs": [],
   "source": [
    "df.drop(registros_a_remover, axis=0, inplace=True)"
   ]
  },
  {
   "cell_type": "code",
   "execution_count": 95,
   "metadata": {
    "ExecuteTime": {
     "end_time": "2024-03-07T22:40:52.457862100Z",
     "start_time": "2024-03-07T22:40:52.276692500Z"
    }
   },
   "outputs": [
    {
     "data": {
      "text/plain": "           Tipo               Bairro  Quartos  Vagas  Suites  Area   Valor  \\\n3   Apartamento               Centro        1      0       0    15   800.0   \n4   Apartamento         Higienópolis        1      0       0    48   800.0   \n6   Apartamento             Cachambi        2      0       0    50  1300.0   \n11  Apartamento               Grajaú        2      1       0    70  1500.0   \n12  Apartamento  Lins de Vasconcelos        3      1       1    90  1500.0   \n\n    Condominio  IPTU  \n3        390.0  20.0  \n4        230.0   0.0  \n6        301.0  17.0  \n11       642.0  74.0  \n12       455.0  14.0  ",
      "text/html": "<div>\n<style scoped>\n    .dataframe tbody tr th:only-of-type {\n        vertical-align: middle;\n    }\n\n    .dataframe tbody tr th {\n        vertical-align: top;\n    }\n\n    .dataframe thead th {\n        text-align: right;\n    }\n</style>\n<table border=\"1\" class=\"dataframe\">\n  <thead>\n    <tr style=\"text-align: right;\">\n      <th></th>\n      <th>Tipo</th>\n      <th>Bairro</th>\n      <th>Quartos</th>\n      <th>Vagas</th>\n      <th>Suites</th>\n      <th>Area</th>\n      <th>Valor</th>\n      <th>Condominio</th>\n      <th>IPTU</th>\n    </tr>\n  </thead>\n  <tbody>\n    <tr>\n      <th>3</th>\n      <td>Apartamento</td>\n      <td>Centro</td>\n      <td>1</td>\n      <td>0</td>\n      <td>0</td>\n      <td>15</td>\n      <td>800.0</td>\n      <td>390.0</td>\n      <td>20.0</td>\n    </tr>\n    <tr>\n      <th>4</th>\n      <td>Apartamento</td>\n      <td>Higienópolis</td>\n      <td>1</td>\n      <td>0</td>\n      <td>0</td>\n      <td>48</td>\n      <td>800.0</td>\n      <td>230.0</td>\n      <td>0.0</td>\n    </tr>\n    <tr>\n      <th>6</th>\n      <td>Apartamento</td>\n      <td>Cachambi</td>\n      <td>2</td>\n      <td>0</td>\n      <td>0</td>\n      <td>50</td>\n      <td>1300.0</td>\n      <td>301.0</td>\n      <td>17.0</td>\n    </tr>\n    <tr>\n      <th>11</th>\n      <td>Apartamento</td>\n      <td>Grajaú</td>\n      <td>2</td>\n      <td>1</td>\n      <td>0</td>\n      <td>70</td>\n      <td>1500.0</td>\n      <td>642.0</td>\n      <td>74.0</td>\n    </tr>\n    <tr>\n      <th>12</th>\n      <td>Apartamento</td>\n      <td>Lins de Vasconcelos</td>\n      <td>3</td>\n      <td>1</td>\n      <td>1</td>\n      <td>90</td>\n      <td>1500.0</td>\n      <td>455.0</td>\n      <td>14.0</td>\n    </tr>\n  </tbody>\n</table>\n</div>"
     },
     "execution_count": 95,
     "metadata": {},
     "output_type": "execute_result"
    }
   ],
   "source": [
    "df.head()"
   ]
  },
  {
   "cell_type": "code",
   "execution_count": 96,
   "metadata": {
    "ExecuteTime": {
     "end_time": "2024-03-07T22:40:52.457862100Z",
     "start_time": "2024-03-07T22:40:52.289768400Z"
    }
   },
   "outputs": [],
   "source": [
    "df.drop('Tipo', axis=1, inplace=True)"
   ]
  },
  {
   "cell_type": "code",
   "execution_count": 97,
   "metadata": {
    "ExecuteTime": {
     "end_time": "2024-03-07T22:40:52.458859300Z",
     "start_time": "2024-03-07T22:40:52.299794700Z"
    }
   },
   "outputs": [
    {
     "data": {
      "text/plain": "                     Bairro  Quartos  Vagas  Suites  Area   Valor  Condominio  \\\n3                    Centro        1      0       0    15   800.0       390.0   \n4              Higienópolis        1      0       0    48   800.0       230.0   \n6                  Cachambi        2      0       0    50  1300.0       301.0   \n11                   Grajaú        2      1       0    70  1500.0       642.0   \n12      Lins de Vasconcelos        3      1       1    90  1500.0       455.0   \n...                     ...      ...    ...     ...   ...     ...         ...   \n32951        Vila Valqueire        2      0       0    52  1000.0       550.0   \n32953                 Méier        2      0       0    70   900.0       490.0   \n32956           Jacarepaguá        3      1       2    78  1800.0       800.0   \n32957  São Francisco Xavier        2      1       0    48  1400.0       509.0   \n32958                Leblon        2      0       0    70  3000.0       760.0   \n\n       IPTU  \n3      20.0  \n4       0.0  \n6      17.0  \n11     74.0  \n12     14.0  \n...     ...  \n32951   0.0  \n32953  48.0  \n32956  40.0  \n32957  37.0  \n32958   0.0  \n\n[18787 rows x 8 columns]",
      "text/html": "<div>\n<style scoped>\n    .dataframe tbody tr th:only-of-type {\n        vertical-align: middle;\n    }\n\n    .dataframe tbody tr th {\n        vertical-align: top;\n    }\n\n    .dataframe thead th {\n        text-align: right;\n    }\n</style>\n<table border=\"1\" class=\"dataframe\">\n  <thead>\n    <tr style=\"text-align: right;\">\n      <th></th>\n      <th>Bairro</th>\n      <th>Quartos</th>\n      <th>Vagas</th>\n      <th>Suites</th>\n      <th>Area</th>\n      <th>Valor</th>\n      <th>Condominio</th>\n      <th>IPTU</th>\n    </tr>\n  </thead>\n  <tbody>\n    <tr>\n      <th>3</th>\n      <td>Centro</td>\n      <td>1</td>\n      <td>0</td>\n      <td>0</td>\n      <td>15</td>\n      <td>800.0</td>\n      <td>390.0</td>\n      <td>20.0</td>\n    </tr>\n    <tr>\n      <th>4</th>\n      <td>Higienópolis</td>\n      <td>1</td>\n      <td>0</td>\n      <td>0</td>\n      <td>48</td>\n      <td>800.0</td>\n      <td>230.0</td>\n      <td>0.0</td>\n    </tr>\n    <tr>\n      <th>6</th>\n      <td>Cachambi</td>\n      <td>2</td>\n      <td>0</td>\n      <td>0</td>\n      <td>50</td>\n      <td>1300.0</td>\n      <td>301.0</td>\n      <td>17.0</td>\n    </tr>\n    <tr>\n      <th>11</th>\n      <td>Grajaú</td>\n      <td>2</td>\n      <td>1</td>\n      <td>0</td>\n      <td>70</td>\n      <td>1500.0</td>\n      <td>642.0</td>\n      <td>74.0</td>\n    </tr>\n    <tr>\n      <th>12</th>\n      <td>Lins de Vasconcelos</td>\n      <td>3</td>\n      <td>1</td>\n      <td>1</td>\n      <td>90</td>\n      <td>1500.0</td>\n      <td>455.0</td>\n      <td>14.0</td>\n    </tr>\n    <tr>\n      <th>...</th>\n      <td>...</td>\n      <td>...</td>\n      <td>...</td>\n      <td>...</td>\n      <td>...</td>\n      <td>...</td>\n      <td>...</td>\n      <td>...</td>\n    </tr>\n    <tr>\n      <th>32951</th>\n      <td>Vila Valqueire</td>\n      <td>2</td>\n      <td>0</td>\n      <td>0</td>\n      <td>52</td>\n      <td>1000.0</td>\n      <td>550.0</td>\n      <td>0.0</td>\n    </tr>\n    <tr>\n      <th>32953</th>\n      <td>Méier</td>\n      <td>2</td>\n      <td>0</td>\n      <td>0</td>\n      <td>70</td>\n      <td>900.0</td>\n      <td>490.0</td>\n      <td>48.0</td>\n    </tr>\n    <tr>\n      <th>32956</th>\n      <td>Jacarepaguá</td>\n      <td>3</td>\n      <td>1</td>\n      <td>2</td>\n      <td>78</td>\n      <td>1800.0</td>\n      <td>800.0</td>\n      <td>40.0</td>\n    </tr>\n    <tr>\n      <th>32957</th>\n      <td>São Francisco Xavier</td>\n      <td>2</td>\n      <td>1</td>\n      <td>0</td>\n      <td>48</td>\n      <td>1400.0</td>\n      <td>509.0</td>\n      <td>37.0</td>\n    </tr>\n    <tr>\n      <th>32958</th>\n      <td>Leblon</td>\n      <td>2</td>\n      <td>0</td>\n      <td>0</td>\n      <td>70</td>\n      <td>3000.0</td>\n      <td>760.0</td>\n      <td>0.0</td>\n    </tr>\n  </tbody>\n</table>\n<p>18787 rows × 8 columns</p>\n</div>"
     },
     "execution_count": 97,
     "metadata": {},
     "output_type": "execute_result"
    }
   ],
   "source": [
    "df"
   ]
  },
  {
   "cell_type": "markdown",
   "metadata": {},
   "source": [
    "## 1. Apartamentos com 1 quarto e aluguel < R$1200"
   ]
  },
  {
   "cell_type": "code",
   "execution_count": 98,
   "metadata": {
    "ExecuteTime": {
     "end_time": "2024-03-07T22:40:52.458859300Z",
     "start_time": "2024-03-07T22:40:52.316059100Z"
    }
   },
   "outputs": [
    {
     "data": {
      "text/plain": "3         True\n4         True\n6        False\n11       False\n12       False\n         ...  \n32951    False\n32953    False\n32956    False\n32957    False\n32958    False\nName: Quartos, Length: 18787, dtype: bool"
     },
     "execution_count": 98,
     "metadata": {},
     "output_type": "execute_result"
    }
   ],
   "source": [
    "selecao1 = df['Quartos'] == 1\n",
    "selecao1"
   ]
  },
  {
   "cell_type": "code",
   "execution_count": 99,
   "metadata": {
    "ExecuteTime": {
     "end_time": "2024-03-07T22:40:52.515564100Z",
     "start_time": "2024-03-07T22:40:52.326585100Z"
    }
   },
   "outputs": [
    {
     "data": {
      "text/plain": "                     Bairro  Quartos  Vagas  Suites  Area   Valor  Condominio  \\\n3                    Centro        1      0       0    15   800.0       390.0   \n4              Higienópolis        1      0       0    48   800.0       230.0   \n19  Freguesia (Jacarepaguá)        3      0       0    54   950.0       300.0   \n23                   Olaria        3      1       0    68  1000.0       670.0   \n28                   Tijuca        1      0       0    48   750.0       772.0   \n\n    IPTU  \n3   20.0  \n4    0.0  \n19  28.0  \n23   0.0  \n28  25.0  ",
      "text/html": "<div>\n<style scoped>\n    .dataframe tbody tr th:only-of-type {\n        vertical-align: middle;\n    }\n\n    .dataframe tbody tr th {\n        vertical-align: top;\n    }\n\n    .dataframe thead th {\n        text-align: right;\n    }\n</style>\n<table border=\"1\" class=\"dataframe\">\n  <thead>\n    <tr style=\"text-align: right;\">\n      <th></th>\n      <th>Bairro</th>\n      <th>Quartos</th>\n      <th>Vagas</th>\n      <th>Suites</th>\n      <th>Area</th>\n      <th>Valor</th>\n      <th>Condominio</th>\n      <th>IPTU</th>\n    </tr>\n  </thead>\n  <tbody>\n    <tr>\n      <th>3</th>\n      <td>Centro</td>\n      <td>1</td>\n      <td>0</td>\n      <td>0</td>\n      <td>15</td>\n      <td>800.0</td>\n      <td>390.0</td>\n      <td>20.0</td>\n    </tr>\n    <tr>\n      <th>4</th>\n      <td>Higienópolis</td>\n      <td>1</td>\n      <td>0</td>\n      <td>0</td>\n      <td>48</td>\n      <td>800.0</td>\n      <td>230.0</td>\n      <td>0.0</td>\n    </tr>\n    <tr>\n      <th>19</th>\n      <td>Freguesia (Jacarepaguá)</td>\n      <td>3</td>\n      <td>0</td>\n      <td>0</td>\n      <td>54</td>\n      <td>950.0</td>\n      <td>300.0</td>\n      <td>28.0</td>\n    </tr>\n    <tr>\n      <th>23</th>\n      <td>Olaria</td>\n      <td>3</td>\n      <td>1</td>\n      <td>0</td>\n      <td>68</td>\n      <td>1000.0</td>\n      <td>670.0</td>\n      <td>0.0</td>\n    </tr>\n    <tr>\n      <th>28</th>\n      <td>Tijuca</td>\n      <td>1</td>\n      <td>0</td>\n      <td>0</td>\n      <td>48</td>\n      <td>750.0</td>\n      <td>772.0</td>\n      <td>25.0</td>\n    </tr>\n  </tbody>\n</table>\n</div>"
     },
     "execution_count": 99,
     "metadata": {},
     "output_type": "execute_result"
    }
   ],
   "source": [
    "selecao2 = df['Valor'] < 1200\n",
    "df[selecao2].head()"
   ]
  },
  {
   "cell_type": "code",
   "execution_count": 116,
   "metadata": {
    "ExecuteTime": {
     "end_time": "2024-03-07T22:44:22.198237100Z",
     "start_time": "2024-03-07T22:44:22.178800200Z"
    }
   },
   "outputs": [
    {
     "data": {
      "text/plain": "             Bairro  Quartos  Vagas  Suites  Area   Valor  Condominio   IPTU\n3            Centro        1      0       0    15   800.0       390.0   20.0\n4      Higienópolis        1      0       0    48   800.0       230.0    0.0\n28           Tijuca        1      0       0    48   750.0       772.0   25.0\n54           Centro        1      0       0    27   750.0       371.0   19.0\n94           Centro        1      1       0    37  1100.0       540.0  900.0\n...             ...      ...    ...     ...   ...     ...         ...    ...\n32596        Grajaú        1      0       1    37  1000.0       200.0    0.0\n32617     Pechincha        1      0       1    69   900.0       640.0  126.0\n32627        Glória        1      0       0    46  1100.0       453.0   32.0\n32714      Botafogo        1      0       0    21  1000.0       282.0   25.0\n32950        Tijuca        1      0       0    28  1000.0       360.0   25.0\n\n[499 rows x 8 columns]",
      "text/html": "<div>\n<style scoped>\n    .dataframe tbody tr th:only-of-type {\n        vertical-align: middle;\n    }\n\n    .dataframe tbody tr th {\n        vertical-align: top;\n    }\n\n    .dataframe thead th {\n        text-align: right;\n    }\n</style>\n<table border=\"1\" class=\"dataframe\">\n  <thead>\n    <tr style=\"text-align: right;\">\n      <th></th>\n      <th>Bairro</th>\n      <th>Quartos</th>\n      <th>Vagas</th>\n      <th>Suites</th>\n      <th>Area</th>\n      <th>Valor</th>\n      <th>Condominio</th>\n      <th>IPTU</th>\n    </tr>\n  </thead>\n  <tbody>\n    <tr>\n      <th>3</th>\n      <td>Centro</td>\n      <td>1</td>\n      <td>0</td>\n      <td>0</td>\n      <td>15</td>\n      <td>800.0</td>\n      <td>390.0</td>\n      <td>20.0</td>\n    </tr>\n    <tr>\n      <th>4</th>\n      <td>Higienópolis</td>\n      <td>1</td>\n      <td>0</td>\n      <td>0</td>\n      <td>48</td>\n      <td>800.0</td>\n      <td>230.0</td>\n      <td>0.0</td>\n    </tr>\n    <tr>\n      <th>28</th>\n      <td>Tijuca</td>\n      <td>1</td>\n      <td>0</td>\n      <td>0</td>\n      <td>48</td>\n      <td>750.0</td>\n      <td>772.0</td>\n      <td>25.0</td>\n    </tr>\n    <tr>\n      <th>54</th>\n      <td>Centro</td>\n      <td>1</td>\n      <td>0</td>\n      <td>0</td>\n      <td>27</td>\n      <td>750.0</td>\n      <td>371.0</td>\n      <td>19.0</td>\n    </tr>\n    <tr>\n      <th>94</th>\n      <td>Centro</td>\n      <td>1</td>\n      <td>1</td>\n      <td>0</td>\n      <td>37</td>\n      <td>1100.0</td>\n      <td>540.0</td>\n      <td>900.0</td>\n    </tr>\n    <tr>\n      <th>...</th>\n      <td>...</td>\n      <td>...</td>\n      <td>...</td>\n      <td>...</td>\n      <td>...</td>\n      <td>...</td>\n      <td>...</td>\n      <td>...</td>\n    </tr>\n    <tr>\n      <th>32596</th>\n      <td>Grajaú</td>\n      <td>1</td>\n      <td>0</td>\n      <td>1</td>\n      <td>37</td>\n      <td>1000.0</td>\n      <td>200.0</td>\n      <td>0.0</td>\n    </tr>\n    <tr>\n      <th>32617</th>\n      <td>Pechincha</td>\n      <td>1</td>\n      <td>0</td>\n      <td>1</td>\n      <td>69</td>\n      <td>900.0</td>\n      <td>640.0</td>\n      <td>126.0</td>\n    </tr>\n    <tr>\n      <th>32627</th>\n      <td>Glória</td>\n      <td>1</td>\n      <td>0</td>\n      <td>0</td>\n      <td>46</td>\n      <td>1100.0</td>\n      <td>453.0</td>\n      <td>32.0</td>\n    </tr>\n    <tr>\n      <th>32714</th>\n      <td>Botafogo</td>\n      <td>1</td>\n      <td>0</td>\n      <td>0</td>\n      <td>21</td>\n      <td>1000.0</td>\n      <td>282.0</td>\n      <td>25.0</td>\n    </tr>\n    <tr>\n      <th>32950</th>\n      <td>Tijuca</td>\n      <td>1</td>\n      <td>0</td>\n      <td>0</td>\n      <td>28</td>\n      <td>1000.0</td>\n      <td>360.0</td>\n      <td>25.0</td>\n    </tr>\n  </tbody>\n</table>\n<p>499 rows × 8 columns</p>\n</div>"
     },
     "execution_count": 116,
     "metadata": {},
     "output_type": "execute_result"
    }
   ],
   "source": [
    "selecao_final = selecao1 & selecao2\n",
    "df[selecao_final]"
   ]
  },
  {
   "cell_type": "code",
   "execution_count": 117,
   "metadata": {
    "ExecuteTime": {
     "end_time": "2024-03-07T22:44:35.189435200Z",
     "start_time": "2024-03-07T22:44:35.183418500Z"
    }
   },
   "outputs": [],
   "source": [
    "df_1 = df[selecao_final]"
   ]
  },
  {
   "cell_type": "markdown",
   "source": [
    "# 2. Apartamentos que possuem pelo menos 2 quartos, aluguel menor que 3000 e area maior que 70"
   ],
   "metadata": {
    "collapsed": false
   }
  },
  {
   "cell_type": "code",
   "execution_count": 102,
   "metadata": {
    "ExecuteTime": {
     "end_time": "2024-03-07T22:40:52.517553300Z",
     "start_time": "2024-03-07T22:40:52.357849300Z"
    }
   },
   "outputs": [
    {
     "data": {
      "text/plain": "                         Bairro  Quartos  Vagas  Suites  Area   Valor  \\\n12          Lins de Vasconcelos        3      1       1    90  1500.0   \n21                       Tijuca        2      1       0   110  1900.0   \n24                       Tijuca        2      1       0    78  2000.0   \n32                     Botafogo        2      1       0    76  2500.0   \n36     Recreio dos Bandeirantes        3      1       1   105  2300.0   \n...                         ...      ...    ...     ...   ...     ...   \n32934               Jacarepaguá        2      1       1    78  2200.0   \n32940           Barra da Tijuca        2      1       1    85  2250.0   \n32941           Barra da Tijuca        3      2       0    98  2300.0   \n32944  Recreio dos Bandeirantes        3      2       1    88  1550.0   \n32956               Jacarepaguá        3      1       2    78  1800.0   \n\n       Condominio   IPTU  \n12          455.0   14.0  \n21          700.0  138.0  \n24          700.0    0.0  \n32          740.0    0.0  \n36          648.0    0.0  \n...           ...    ...  \n32934       790.0  180.0  \n32940      1561.0  197.0  \n32941       887.0  177.0  \n32944       790.0    0.0  \n32956       800.0   40.0  \n\n[4465 rows x 8 columns]",
      "text/html": "<div>\n<style scoped>\n    .dataframe tbody tr th:only-of-type {\n        vertical-align: middle;\n    }\n\n    .dataframe tbody tr th {\n        vertical-align: top;\n    }\n\n    .dataframe thead th {\n        text-align: right;\n    }\n</style>\n<table border=\"1\" class=\"dataframe\">\n  <thead>\n    <tr style=\"text-align: right;\">\n      <th></th>\n      <th>Bairro</th>\n      <th>Quartos</th>\n      <th>Vagas</th>\n      <th>Suites</th>\n      <th>Area</th>\n      <th>Valor</th>\n      <th>Condominio</th>\n      <th>IPTU</th>\n    </tr>\n  </thead>\n  <tbody>\n    <tr>\n      <th>12</th>\n      <td>Lins de Vasconcelos</td>\n      <td>3</td>\n      <td>1</td>\n      <td>1</td>\n      <td>90</td>\n      <td>1500.0</td>\n      <td>455.0</td>\n      <td>14.0</td>\n    </tr>\n    <tr>\n      <th>21</th>\n      <td>Tijuca</td>\n      <td>2</td>\n      <td>1</td>\n      <td>0</td>\n      <td>110</td>\n      <td>1900.0</td>\n      <td>700.0</td>\n      <td>138.0</td>\n    </tr>\n    <tr>\n      <th>24</th>\n      <td>Tijuca</td>\n      <td>2</td>\n      <td>1</td>\n      <td>0</td>\n      <td>78</td>\n      <td>2000.0</td>\n      <td>700.0</td>\n      <td>0.0</td>\n    </tr>\n    <tr>\n      <th>32</th>\n      <td>Botafogo</td>\n      <td>2</td>\n      <td>1</td>\n      <td>0</td>\n      <td>76</td>\n      <td>2500.0</td>\n      <td>740.0</td>\n      <td>0.0</td>\n    </tr>\n    <tr>\n      <th>36</th>\n      <td>Recreio dos Bandeirantes</td>\n      <td>3</td>\n      <td>1</td>\n      <td>1</td>\n      <td>105</td>\n      <td>2300.0</td>\n      <td>648.0</td>\n      <td>0.0</td>\n    </tr>\n    <tr>\n      <th>...</th>\n      <td>...</td>\n      <td>...</td>\n      <td>...</td>\n      <td>...</td>\n      <td>...</td>\n      <td>...</td>\n      <td>...</td>\n      <td>...</td>\n    </tr>\n    <tr>\n      <th>32934</th>\n      <td>Jacarepaguá</td>\n      <td>2</td>\n      <td>1</td>\n      <td>1</td>\n      <td>78</td>\n      <td>2200.0</td>\n      <td>790.0</td>\n      <td>180.0</td>\n    </tr>\n    <tr>\n      <th>32940</th>\n      <td>Barra da Tijuca</td>\n      <td>2</td>\n      <td>1</td>\n      <td>1</td>\n      <td>85</td>\n      <td>2250.0</td>\n      <td>1561.0</td>\n      <td>197.0</td>\n    </tr>\n    <tr>\n      <th>32941</th>\n      <td>Barra da Tijuca</td>\n      <td>3</td>\n      <td>2</td>\n      <td>0</td>\n      <td>98</td>\n      <td>2300.0</td>\n      <td>887.0</td>\n      <td>177.0</td>\n    </tr>\n    <tr>\n      <th>32944</th>\n      <td>Recreio dos Bandeirantes</td>\n      <td>3</td>\n      <td>2</td>\n      <td>1</td>\n      <td>88</td>\n      <td>1550.0</td>\n      <td>790.0</td>\n      <td>0.0</td>\n    </tr>\n    <tr>\n      <th>32956</th>\n      <td>Jacarepaguá</td>\n      <td>3</td>\n      <td>1</td>\n      <td>2</td>\n      <td>78</td>\n      <td>1800.0</td>\n      <td>800.0</td>\n      <td>40.0</td>\n    </tr>\n  </tbody>\n</table>\n<p>4465 rows × 8 columns</p>\n</div>"
     },
     "execution_count": 102,
     "metadata": {},
     "output_type": "execute_result"
    }
   ],
   "source": [
    "selecao = (df['Quartos'] >=2) & (df['Valor'] < 3000) & (df['Area'] > 70)\n",
    "df[selecao]"
   ]
  },
  {
   "cell_type": "code",
   "execution_count": 103,
   "metadata": {
    "ExecuteTime": {
     "end_time": "2024-03-07T22:40:52.518550400Z",
     "start_time": "2024-03-07T22:40:52.379815Z"
    }
   },
   "outputs": [],
   "source": [
    "df_2 = df[selecao] \n",
    "df_1.to_csv('filtro_1.csv', index=False, sep=\";\")\n",
    "df_2.to_csv('filtro_2.csv', index=False, sep=\";\")\n"
   ]
  },
  {
   "cell_type": "markdown",
   "metadata": {},
   "source": [
    "# Salvando os dados"
   ]
  },
  {
   "cell_type": "code",
   "execution_count": 104,
   "metadata": {
    "ExecuteTime": {
     "end_time": "2024-03-07T22:40:52.841585700Z",
     "start_time": "2024-03-07T22:40:52.401257200Z"
    }
   },
   "outputs": [],
   "source": [
    "df.to_csv('dados_apartamentos.csv', index=False)"
   ]
  },
  {
   "cell_type": "code",
   "execution_count": 105,
   "metadata": {
    "ExecuteTime": {
     "end_time": "2024-03-07T22:40:52.904533300Z",
     "start_time": "2024-03-07T22:40:52.459951400Z"
    }
   },
   "outputs": [
    {
     "data": {
      "text/plain": "                     Bairro  Quartos  Vagas  Suites  Area   Valor  Condominio  \\\n0                    Centro        1      0       0    15   800.0       390.0   \n1              Higienópolis        1      0       0    48   800.0       230.0   \n2                  Cachambi        2      0       0    50  1300.0       301.0   \n3                    Grajaú        2      1       0    70  1500.0       642.0   \n4       Lins de Vasconcelos        3      1       1    90  1500.0       455.0   \n...                     ...      ...    ...     ...   ...     ...         ...   \n18782        Vila Valqueire        2      0       0    52  1000.0       550.0   \n18783                 Méier        2      0       0    70   900.0       490.0   \n18784           Jacarepaguá        3      1       2    78  1800.0       800.0   \n18785  São Francisco Xavier        2      1       0    48  1400.0       509.0   \n18786                Leblon        2      0       0    70  3000.0       760.0   \n\n       IPTU  \n0      20.0  \n1       0.0  \n2      17.0  \n3      74.0  \n4      14.0  \n...     ...  \n18782   0.0  \n18783  48.0  \n18784  40.0  \n18785  37.0  \n18786   0.0  \n\n[18787 rows x 8 columns]",
      "text/html": "<div>\n<style scoped>\n    .dataframe tbody tr th:only-of-type {\n        vertical-align: middle;\n    }\n\n    .dataframe tbody tr th {\n        vertical-align: top;\n    }\n\n    .dataframe thead th {\n        text-align: right;\n    }\n</style>\n<table border=\"1\" class=\"dataframe\">\n  <thead>\n    <tr style=\"text-align: right;\">\n      <th></th>\n      <th>Bairro</th>\n      <th>Quartos</th>\n      <th>Vagas</th>\n      <th>Suites</th>\n      <th>Area</th>\n      <th>Valor</th>\n      <th>Condominio</th>\n      <th>IPTU</th>\n    </tr>\n  </thead>\n  <tbody>\n    <tr>\n      <th>0</th>\n      <td>Centro</td>\n      <td>1</td>\n      <td>0</td>\n      <td>0</td>\n      <td>15</td>\n      <td>800.0</td>\n      <td>390.0</td>\n      <td>20.0</td>\n    </tr>\n    <tr>\n      <th>1</th>\n      <td>Higienópolis</td>\n      <td>1</td>\n      <td>0</td>\n      <td>0</td>\n      <td>48</td>\n      <td>800.0</td>\n      <td>230.0</td>\n      <td>0.0</td>\n    </tr>\n    <tr>\n      <th>2</th>\n      <td>Cachambi</td>\n      <td>2</td>\n      <td>0</td>\n      <td>0</td>\n      <td>50</td>\n      <td>1300.0</td>\n      <td>301.0</td>\n      <td>17.0</td>\n    </tr>\n    <tr>\n      <th>3</th>\n      <td>Grajaú</td>\n      <td>2</td>\n      <td>1</td>\n      <td>0</td>\n      <td>70</td>\n      <td>1500.0</td>\n      <td>642.0</td>\n      <td>74.0</td>\n    </tr>\n    <tr>\n      <th>4</th>\n      <td>Lins de Vasconcelos</td>\n      <td>3</td>\n      <td>1</td>\n      <td>1</td>\n      <td>90</td>\n      <td>1500.0</td>\n      <td>455.0</td>\n      <td>14.0</td>\n    </tr>\n    <tr>\n      <th>...</th>\n      <td>...</td>\n      <td>...</td>\n      <td>...</td>\n      <td>...</td>\n      <td>...</td>\n      <td>...</td>\n      <td>...</td>\n      <td>...</td>\n    </tr>\n    <tr>\n      <th>18782</th>\n      <td>Vila Valqueire</td>\n      <td>2</td>\n      <td>0</td>\n      <td>0</td>\n      <td>52</td>\n      <td>1000.0</td>\n      <td>550.0</td>\n      <td>0.0</td>\n    </tr>\n    <tr>\n      <th>18783</th>\n      <td>Méier</td>\n      <td>2</td>\n      <td>0</td>\n      <td>0</td>\n      <td>70</td>\n      <td>900.0</td>\n      <td>490.0</td>\n      <td>48.0</td>\n    </tr>\n    <tr>\n      <th>18784</th>\n      <td>Jacarepaguá</td>\n      <td>3</td>\n      <td>1</td>\n      <td>2</td>\n      <td>78</td>\n      <td>1800.0</td>\n      <td>800.0</td>\n      <td>40.0</td>\n    </tr>\n    <tr>\n      <th>18785</th>\n      <td>São Francisco Xavier</td>\n      <td>2</td>\n      <td>1</td>\n      <td>0</td>\n      <td>48</td>\n      <td>1400.0</td>\n      <td>509.0</td>\n      <td>37.0</td>\n    </tr>\n    <tr>\n      <th>18786</th>\n      <td>Leblon</td>\n      <td>2</td>\n      <td>0</td>\n      <td>0</td>\n      <td>70</td>\n      <td>3000.0</td>\n      <td>760.0</td>\n      <td>0.0</td>\n    </tr>\n  </tbody>\n</table>\n<p>18787 rows × 8 columns</p>\n</div>"
     },
     "execution_count": 105,
     "metadata": {},
     "output_type": "execute_result"
    }
   ],
   "source": [
    "pd.read_csv('dados_apartamentos.csv')"
   ]
  },
  {
   "cell_type": "code",
   "execution_count": 106,
   "metadata": {
    "ExecuteTime": {
     "end_time": "2024-03-07T22:40:52.946819Z",
     "start_time": "2024-03-07T22:40:52.490643800Z"
    }
   },
   "outputs": [],
   "source": [
    "df.to_csv('dados_apartamentos.csv', index=False, sep=';')"
   ]
  },
  {
   "cell_type": "code",
   "execution_count": 107,
   "metadata": {
    "ExecuteTime": {
     "end_time": "2024-03-07T22:40:52.959777200Z",
     "start_time": "2024-03-07T22:40:52.548193400Z"
    }
   },
   "outputs": [
    {
     "data": {
      "text/plain": "                     Bairro  Quartos  Vagas  Suites  Area   Valor  Condominio  \\\n0                    Centro        1      0       0    15   800.0       390.0   \n1              Higienópolis        1      0       0    48   800.0       230.0   \n2                  Cachambi        2      0       0    50  1300.0       301.0   \n3                    Grajaú        2      1       0    70  1500.0       642.0   \n4       Lins de Vasconcelos        3      1       1    90  1500.0       455.0   \n...                     ...      ...    ...     ...   ...     ...         ...   \n18782        Vila Valqueire        2      0       0    52  1000.0       550.0   \n18783                 Méier        2      0       0    70   900.0       490.0   \n18784           Jacarepaguá        3      1       2    78  1800.0       800.0   \n18785  São Francisco Xavier        2      1       0    48  1400.0       509.0   \n18786                Leblon        2      0       0    70  3000.0       760.0   \n\n       IPTU  \n0      20.0  \n1       0.0  \n2      17.0  \n3      74.0  \n4      14.0  \n...     ...  \n18782   0.0  \n18783  48.0  \n18784  40.0  \n18785  37.0  \n18786   0.0  \n\n[18787 rows x 8 columns]",
      "text/html": "<div>\n<style scoped>\n    .dataframe tbody tr th:only-of-type {\n        vertical-align: middle;\n    }\n\n    .dataframe tbody tr th {\n        vertical-align: top;\n    }\n\n    .dataframe thead th {\n        text-align: right;\n    }\n</style>\n<table border=\"1\" class=\"dataframe\">\n  <thead>\n    <tr style=\"text-align: right;\">\n      <th></th>\n      <th>Bairro</th>\n      <th>Quartos</th>\n      <th>Vagas</th>\n      <th>Suites</th>\n      <th>Area</th>\n      <th>Valor</th>\n      <th>Condominio</th>\n      <th>IPTU</th>\n    </tr>\n  </thead>\n  <tbody>\n    <tr>\n      <th>0</th>\n      <td>Centro</td>\n      <td>1</td>\n      <td>0</td>\n      <td>0</td>\n      <td>15</td>\n      <td>800.0</td>\n      <td>390.0</td>\n      <td>20.0</td>\n    </tr>\n    <tr>\n      <th>1</th>\n      <td>Higienópolis</td>\n      <td>1</td>\n      <td>0</td>\n      <td>0</td>\n      <td>48</td>\n      <td>800.0</td>\n      <td>230.0</td>\n      <td>0.0</td>\n    </tr>\n    <tr>\n      <th>2</th>\n      <td>Cachambi</td>\n      <td>2</td>\n      <td>0</td>\n      <td>0</td>\n      <td>50</td>\n      <td>1300.0</td>\n      <td>301.0</td>\n      <td>17.0</td>\n    </tr>\n    <tr>\n      <th>3</th>\n      <td>Grajaú</td>\n      <td>2</td>\n      <td>1</td>\n      <td>0</td>\n      <td>70</td>\n      <td>1500.0</td>\n      <td>642.0</td>\n      <td>74.0</td>\n    </tr>\n    <tr>\n      <th>4</th>\n      <td>Lins de Vasconcelos</td>\n      <td>3</td>\n      <td>1</td>\n      <td>1</td>\n      <td>90</td>\n      <td>1500.0</td>\n      <td>455.0</td>\n      <td>14.0</td>\n    </tr>\n    <tr>\n      <th>...</th>\n      <td>...</td>\n      <td>...</td>\n      <td>...</td>\n      <td>...</td>\n      <td>...</td>\n      <td>...</td>\n      <td>...</td>\n      <td>...</td>\n    </tr>\n    <tr>\n      <th>18782</th>\n      <td>Vila Valqueire</td>\n      <td>2</td>\n      <td>0</td>\n      <td>0</td>\n      <td>52</td>\n      <td>1000.0</td>\n      <td>550.0</td>\n      <td>0.0</td>\n    </tr>\n    <tr>\n      <th>18783</th>\n      <td>Méier</td>\n      <td>2</td>\n      <td>0</td>\n      <td>0</td>\n      <td>70</td>\n      <td>900.0</td>\n      <td>490.0</td>\n      <td>48.0</td>\n    </tr>\n    <tr>\n      <th>18784</th>\n      <td>Jacarepaguá</td>\n      <td>3</td>\n      <td>1</td>\n      <td>2</td>\n      <td>78</td>\n      <td>1800.0</td>\n      <td>800.0</td>\n      <td>40.0</td>\n    </tr>\n    <tr>\n      <th>18785</th>\n      <td>São Francisco Xavier</td>\n      <td>2</td>\n      <td>1</td>\n      <td>0</td>\n      <td>48</td>\n      <td>1400.0</td>\n      <td>509.0</td>\n      <td>37.0</td>\n    </tr>\n    <tr>\n      <th>18786</th>\n      <td>Leblon</td>\n      <td>2</td>\n      <td>0</td>\n      <td>0</td>\n      <td>70</td>\n      <td>3000.0</td>\n      <td>760.0</td>\n      <td>0.0</td>\n    </tr>\n  </tbody>\n</table>\n<p>18787 rows × 8 columns</p>\n</div>"
     },
     "execution_count": 107,
     "metadata": {},
     "output_type": "execute_result"
    }
   ],
   "source": [
    "pd.read_csv('dados_apartamentos.csv', sep=';')"
   ]
  },
  {
   "cell_type": "markdown",
   "metadata": {},
   "source": [
    "# Criando colunas numéricas"
   ]
  },
  {
   "cell_type": "code",
   "execution_count": 108,
   "metadata": {
    "ExecuteTime": {
     "end_time": "2024-03-07T22:40:53.531260600Z",
     "start_time": "2024-03-07T22:40:52.585Z"
    }
   },
   "outputs": [
    {
     "data": {
      "text/plain": "                      Tipo           Bairro  Quartos  Vagas  Suites  Area  \\\n0                Quitinete       Copacabana        1      0       0    40   \n1                     Casa  Jardim Botânico        2      0       1   100   \n2  Conjunto Comercial/Sala  Barra da Tijuca        0      4       0   150   \n3              Apartamento           Centro        1      0       0    15   \n4              Apartamento     Higienópolis        1      0       0    48   \n\n    Valor  Condominio    IPTU  \n0  1700.0       500.0    60.0  \n1  7000.0         NaN     NaN  \n2  5200.0      4020.0  1111.0  \n3   800.0       390.0    20.0  \n4   800.0       230.0     NaN  ",
      "text/html": "<div>\n<style scoped>\n    .dataframe tbody tr th:only-of-type {\n        vertical-align: middle;\n    }\n\n    .dataframe tbody tr th {\n        vertical-align: top;\n    }\n\n    .dataframe thead th {\n        text-align: right;\n    }\n</style>\n<table border=\"1\" class=\"dataframe\">\n  <thead>\n    <tr style=\"text-align: right;\">\n      <th></th>\n      <th>Tipo</th>\n      <th>Bairro</th>\n      <th>Quartos</th>\n      <th>Vagas</th>\n      <th>Suites</th>\n      <th>Area</th>\n      <th>Valor</th>\n      <th>Condominio</th>\n      <th>IPTU</th>\n    </tr>\n  </thead>\n  <tbody>\n    <tr>\n      <th>0</th>\n      <td>Quitinete</td>\n      <td>Copacabana</td>\n      <td>1</td>\n      <td>0</td>\n      <td>0</td>\n      <td>40</td>\n      <td>1700.0</td>\n      <td>500.0</td>\n      <td>60.0</td>\n    </tr>\n    <tr>\n      <th>1</th>\n      <td>Casa</td>\n      <td>Jardim Botânico</td>\n      <td>2</td>\n      <td>0</td>\n      <td>1</td>\n      <td>100</td>\n      <td>7000.0</td>\n      <td>NaN</td>\n      <td>NaN</td>\n    </tr>\n    <tr>\n      <th>2</th>\n      <td>Conjunto Comercial/Sala</td>\n      <td>Barra da Tijuca</td>\n      <td>0</td>\n      <td>4</td>\n      <td>0</td>\n      <td>150</td>\n      <td>5200.0</td>\n      <td>4020.0</td>\n      <td>1111.0</td>\n    </tr>\n    <tr>\n      <th>3</th>\n      <td>Apartamento</td>\n      <td>Centro</td>\n      <td>1</td>\n      <td>0</td>\n      <td>0</td>\n      <td>15</td>\n      <td>800.0</td>\n      <td>390.0</td>\n      <td>20.0</td>\n    </tr>\n    <tr>\n      <th>4</th>\n      <td>Apartamento</td>\n      <td>Higienópolis</td>\n      <td>1</td>\n      <td>0</td>\n      <td>0</td>\n      <td>48</td>\n      <td>800.0</td>\n      <td>230.0</td>\n      <td>NaN</td>\n    </tr>\n  </tbody>\n</table>\n</div>"
     },
     "execution_count": 108,
     "metadata": {},
     "output_type": "execute_result"
    }
   ],
   "source": [
    "url = 'https://raw.githubusercontent.com/alura-cursos/pandas-conhecendo-a-biblioteca/main/base-de-dados/aluguel.csv'\n",
    "dados = pd.read_csv(url, sep=';')\n",
    "dados.head()\n"
   ]
  },
  {
   "cell_type": "code",
   "execution_count": 109,
   "metadata": {
    "ExecuteTime": {
     "end_time": "2024-03-07T22:40:53.624464800Z",
     "start_time": "2024-03-07T22:40:53.146839800Z"
    }
   },
   "outputs": [
    {
     "data": {
      "text/plain": "                      Tipo           Bairro  Quartos  Vagas  Suites  Area  \\\n0                Quitinete       Copacabana        1      0       0    40   \n1                     Casa  Jardim Botânico        2      0       1   100   \n2  Conjunto Comercial/Sala  Barra da Tijuca        0      4       0   150   \n3              Apartamento           Centro        1      0       0    15   \n4              Apartamento     Higienópolis        1      0       0    48   \n\n    Valor  Condominio    IPTU  Valor_por_mes  \n0  1700.0       500.0    60.0         2200.0  \n1  7000.0         0.0     0.0         7000.0  \n2  5200.0      4020.0  1111.0         9220.0  \n3   800.0       390.0    20.0         1190.0  \n4   800.0       230.0     0.0         1030.0  ",
      "text/html": "<div>\n<style scoped>\n    .dataframe tbody tr th:only-of-type {\n        vertical-align: middle;\n    }\n\n    .dataframe tbody tr th {\n        vertical-align: top;\n    }\n\n    .dataframe thead th {\n        text-align: right;\n    }\n</style>\n<table border=\"1\" class=\"dataframe\">\n  <thead>\n    <tr style=\"text-align: right;\">\n      <th></th>\n      <th>Tipo</th>\n      <th>Bairro</th>\n      <th>Quartos</th>\n      <th>Vagas</th>\n      <th>Suites</th>\n      <th>Area</th>\n      <th>Valor</th>\n      <th>Condominio</th>\n      <th>IPTU</th>\n      <th>Valor_por_mes</th>\n    </tr>\n  </thead>\n  <tbody>\n    <tr>\n      <th>0</th>\n      <td>Quitinete</td>\n      <td>Copacabana</td>\n      <td>1</td>\n      <td>0</td>\n      <td>0</td>\n      <td>40</td>\n      <td>1700.0</td>\n      <td>500.0</td>\n      <td>60.0</td>\n      <td>2200.0</td>\n    </tr>\n    <tr>\n      <th>1</th>\n      <td>Casa</td>\n      <td>Jardim Botânico</td>\n      <td>2</td>\n      <td>0</td>\n      <td>1</td>\n      <td>100</td>\n      <td>7000.0</td>\n      <td>0.0</td>\n      <td>0.0</td>\n      <td>7000.0</td>\n    </tr>\n    <tr>\n      <th>2</th>\n      <td>Conjunto Comercial/Sala</td>\n      <td>Barra da Tijuca</td>\n      <td>0</td>\n      <td>4</td>\n      <td>0</td>\n      <td>150</td>\n      <td>5200.0</td>\n      <td>4020.0</td>\n      <td>1111.0</td>\n      <td>9220.0</td>\n    </tr>\n    <tr>\n      <th>3</th>\n      <td>Apartamento</td>\n      <td>Centro</td>\n      <td>1</td>\n      <td>0</td>\n      <td>0</td>\n      <td>15</td>\n      <td>800.0</td>\n      <td>390.0</td>\n      <td>20.0</td>\n      <td>1190.0</td>\n    </tr>\n    <tr>\n      <th>4</th>\n      <td>Apartamento</td>\n      <td>Higienópolis</td>\n      <td>1</td>\n      <td>0</td>\n      <td>0</td>\n      <td>48</td>\n      <td>800.0</td>\n      <td>230.0</td>\n      <td>0.0</td>\n      <td>1030.0</td>\n    </tr>\n  </tbody>\n</table>\n</div>"
     },
     "execution_count": 109,
     "metadata": {},
     "output_type": "execute_result"
    }
   ],
   "source": [
    "dados.fillna(0, inplace=True)\n",
    "dados['Valor_por_mes'] = dados['Valor'] + dados['Condominio']\n",
    "dados.head()"
   ]
  },
  {
   "cell_type": "code",
   "execution_count": 110,
   "metadata": {
    "ExecuteTime": {
     "end_time": "2024-03-07T22:40:53.678770Z",
     "start_time": "2024-03-07T22:40:53.163084500Z"
    }
   },
   "outputs": [
    {
     "data": {
      "text/plain": "                      Tipo           Bairro  Quartos  Vagas  Suites  Area  \\\n0                Quitinete       Copacabana        1      0       0    40   \n1                     Casa  Jardim Botânico        2      0       1   100   \n2  Conjunto Comercial/Sala  Barra da Tijuca        0      4       0   150   \n3              Apartamento           Centro        1      0       0    15   \n4              Apartamento     Higienópolis        1      0       0    48   \n\n    Valor  Condominio    IPTU  Valor_por_mes  Valor_por_ano  \n0  1700.0       500.0    60.0         2200.0        26460.0  \n1  7000.0         0.0     0.0         7000.0        84000.0  \n2  5200.0      4020.0  1111.0         9220.0       111751.0  \n3   800.0       390.0    20.0         1190.0        14300.0  \n4   800.0       230.0     0.0         1030.0        12360.0  ",
      "text/html": "<div>\n<style scoped>\n    .dataframe tbody tr th:only-of-type {\n        vertical-align: middle;\n    }\n\n    .dataframe tbody tr th {\n        vertical-align: top;\n    }\n\n    .dataframe thead th {\n        text-align: right;\n    }\n</style>\n<table border=\"1\" class=\"dataframe\">\n  <thead>\n    <tr style=\"text-align: right;\">\n      <th></th>\n      <th>Tipo</th>\n      <th>Bairro</th>\n      <th>Quartos</th>\n      <th>Vagas</th>\n      <th>Suites</th>\n      <th>Area</th>\n      <th>Valor</th>\n      <th>Condominio</th>\n      <th>IPTU</th>\n      <th>Valor_por_mes</th>\n      <th>Valor_por_ano</th>\n    </tr>\n  </thead>\n  <tbody>\n    <tr>\n      <th>0</th>\n      <td>Quitinete</td>\n      <td>Copacabana</td>\n      <td>1</td>\n      <td>0</td>\n      <td>0</td>\n      <td>40</td>\n      <td>1700.0</td>\n      <td>500.0</td>\n      <td>60.0</td>\n      <td>2200.0</td>\n      <td>26460.0</td>\n    </tr>\n    <tr>\n      <th>1</th>\n      <td>Casa</td>\n      <td>Jardim Botânico</td>\n      <td>2</td>\n      <td>0</td>\n      <td>1</td>\n      <td>100</td>\n      <td>7000.0</td>\n      <td>0.0</td>\n      <td>0.0</td>\n      <td>7000.0</td>\n      <td>84000.0</td>\n    </tr>\n    <tr>\n      <th>2</th>\n      <td>Conjunto Comercial/Sala</td>\n      <td>Barra da Tijuca</td>\n      <td>0</td>\n      <td>4</td>\n      <td>0</td>\n      <td>150</td>\n      <td>5200.0</td>\n      <td>4020.0</td>\n      <td>1111.0</td>\n      <td>9220.0</td>\n      <td>111751.0</td>\n    </tr>\n    <tr>\n      <th>3</th>\n      <td>Apartamento</td>\n      <td>Centro</td>\n      <td>1</td>\n      <td>0</td>\n      <td>0</td>\n      <td>15</td>\n      <td>800.0</td>\n      <td>390.0</td>\n      <td>20.0</td>\n      <td>1190.0</td>\n      <td>14300.0</td>\n    </tr>\n    <tr>\n      <th>4</th>\n      <td>Apartamento</td>\n      <td>Higienópolis</td>\n      <td>1</td>\n      <td>0</td>\n      <td>0</td>\n      <td>48</td>\n      <td>800.0</td>\n      <td>230.0</td>\n      <td>0.0</td>\n      <td>1030.0</td>\n      <td>12360.0</td>\n    </tr>\n  </tbody>\n</table>\n</div>"
     },
     "execution_count": 110,
     "metadata": {},
     "output_type": "execute_result"
    }
   ],
   "source": [
    "dados['Valor_por_ano'] = dados['Valor_por_mes'] * 12 + dados['IPTU']\n",
    "dados.head()"
   ]
  },
  {
   "cell_type": "markdown",
   "metadata": {},
   "source": [
    "# Criando colunas categóricas"
   ]
  },
  {
   "cell_type": "code",
   "execution_count": 111,
   "metadata": {
    "ExecuteTime": {
     "end_time": "2024-03-07T22:40:53.679766200Z",
     "start_time": "2024-03-07T22:40:53.197037600Z"
    }
   },
   "outputs": [
    {
     "data": {
      "text/plain": "                      Tipo           Bairro  Quartos  Vagas  Suites  Area  \\\n0                Quitinete       Copacabana        1      0       0    40   \n1                     Casa  Jardim Botânico        2      0       1   100   \n2  Conjunto Comercial/Sala  Barra da Tijuca        0      4       0   150   \n3              Apartamento           Centro        1      0       0    15   \n4              Apartamento     Higienópolis        1      0       0    48   \n\n    Valor  Condominio    IPTU  Valor_por_mes  Valor_por_ano  \\\n0  1700.0       500.0    60.0         2200.0        26460.0   \n1  7000.0         0.0     0.0         7000.0        84000.0   \n2  5200.0      4020.0  1111.0         9220.0       111751.0   \n3   800.0       390.0    20.0         1190.0        14300.0   \n4   800.0       230.0     0.0         1030.0        12360.0   \n\n                                    Descricao  \n0                     Quitinete em Copacabana  \n1                     Casa em Jardim Botânico  \n2  Conjunto Comercial/Sala em Barra da Tijuca  \n3                       Apartamento em Centro  \n4                 Apartamento em Higienópolis  ",
      "text/html": "<div>\n<style scoped>\n    .dataframe tbody tr th:only-of-type {\n        vertical-align: middle;\n    }\n\n    .dataframe tbody tr th {\n        vertical-align: top;\n    }\n\n    .dataframe thead th {\n        text-align: right;\n    }\n</style>\n<table border=\"1\" class=\"dataframe\">\n  <thead>\n    <tr style=\"text-align: right;\">\n      <th></th>\n      <th>Tipo</th>\n      <th>Bairro</th>\n      <th>Quartos</th>\n      <th>Vagas</th>\n      <th>Suites</th>\n      <th>Area</th>\n      <th>Valor</th>\n      <th>Condominio</th>\n      <th>IPTU</th>\n      <th>Valor_por_mes</th>\n      <th>Valor_por_ano</th>\n      <th>Descricao</th>\n    </tr>\n  </thead>\n  <tbody>\n    <tr>\n      <th>0</th>\n      <td>Quitinete</td>\n      <td>Copacabana</td>\n      <td>1</td>\n      <td>0</td>\n      <td>0</td>\n      <td>40</td>\n      <td>1700.0</td>\n      <td>500.0</td>\n      <td>60.0</td>\n      <td>2200.0</td>\n      <td>26460.0</td>\n      <td>Quitinete em Copacabana</td>\n    </tr>\n    <tr>\n      <th>1</th>\n      <td>Casa</td>\n      <td>Jardim Botânico</td>\n      <td>2</td>\n      <td>0</td>\n      <td>1</td>\n      <td>100</td>\n      <td>7000.0</td>\n      <td>0.0</td>\n      <td>0.0</td>\n      <td>7000.0</td>\n      <td>84000.0</td>\n      <td>Casa em Jardim Botânico</td>\n    </tr>\n    <tr>\n      <th>2</th>\n      <td>Conjunto Comercial/Sala</td>\n      <td>Barra da Tijuca</td>\n      <td>0</td>\n      <td>4</td>\n      <td>0</td>\n      <td>150</td>\n      <td>5200.0</td>\n      <td>4020.0</td>\n      <td>1111.0</td>\n      <td>9220.0</td>\n      <td>111751.0</td>\n      <td>Conjunto Comercial/Sala em Barra da Tijuca</td>\n    </tr>\n    <tr>\n      <th>3</th>\n      <td>Apartamento</td>\n      <td>Centro</td>\n      <td>1</td>\n      <td>0</td>\n      <td>0</td>\n      <td>15</td>\n      <td>800.0</td>\n      <td>390.0</td>\n      <td>20.0</td>\n      <td>1190.0</td>\n      <td>14300.0</td>\n      <td>Apartamento em Centro</td>\n    </tr>\n    <tr>\n      <th>4</th>\n      <td>Apartamento</td>\n      <td>Higienópolis</td>\n      <td>1</td>\n      <td>0</td>\n      <td>0</td>\n      <td>48</td>\n      <td>800.0</td>\n      <td>230.0</td>\n      <td>0.0</td>\n      <td>1030.0</td>\n      <td>12360.0</td>\n      <td>Apartamento em Higienópolis</td>\n    </tr>\n  </tbody>\n</table>\n</div>"
     },
     "execution_count": 111,
     "metadata": {},
     "output_type": "execute_result"
    }
   ],
   "source": [
    "dados['Descricao'] = dados['Tipo'] + ' em ' + dados['Bairro']\n",
    "dados.head()"
   ]
  },
  {
   "cell_type": "code",
   "execution_count": 112,
   "metadata": {
    "ExecuteTime": {
     "end_time": "2024-03-07T22:40:53.740769200Z",
     "start_time": "2024-03-07T22:40:53.221906100Z"
    }
   },
   "outputs": [
    {
     "data": {
      "text/plain": "                      Tipo           Bairro  Quartos  Vagas  Suites  Area  \\\n0                Quitinete       Copacabana        1      0       0    40   \n1                     Casa  Jardim Botânico        2      0       1   100   \n2  Conjunto Comercial/Sala  Barra da Tijuca        0      4       0   150   \n3              Apartamento           Centro        1      0       0    15   \n4              Apartamento     Higienópolis        1      0       0    48   \n\n    Valor  Condominio    IPTU  Valor_por_mes  Valor_por_ano  \\\n0  1700.0       500.0    60.0         2200.0        26460.0   \n1  7000.0         0.0     0.0         7000.0        84000.0   \n2  5200.0      4020.0  1111.0         9220.0       111751.0   \n3   800.0       390.0    20.0         1190.0        14300.0   \n4   800.0       230.0     0.0         1030.0        12360.0   \n\n                                           Descricao  \n0  Quitinete em Copacabana com 1 quarto(s)  e 0 v...  \n1  Casa em Jardim Botânico com 2 quarto(s)  e 0 v...  \n2  Conjunto Comercial/Sala em Barra da Tijuca com...  \n3  Apartamento em Centro com 1 quarto(s)  e 0 vag...  \n4  Apartamento em Higienópolis com 1 quarto(s)  e...  ",
      "text/html": "<div>\n<style scoped>\n    .dataframe tbody tr th:only-of-type {\n        vertical-align: middle;\n    }\n\n    .dataframe tbody tr th {\n        vertical-align: top;\n    }\n\n    .dataframe thead th {\n        text-align: right;\n    }\n</style>\n<table border=\"1\" class=\"dataframe\">\n  <thead>\n    <tr style=\"text-align: right;\">\n      <th></th>\n      <th>Tipo</th>\n      <th>Bairro</th>\n      <th>Quartos</th>\n      <th>Vagas</th>\n      <th>Suites</th>\n      <th>Area</th>\n      <th>Valor</th>\n      <th>Condominio</th>\n      <th>IPTU</th>\n      <th>Valor_por_mes</th>\n      <th>Valor_por_ano</th>\n      <th>Descricao</th>\n    </tr>\n  </thead>\n  <tbody>\n    <tr>\n      <th>0</th>\n      <td>Quitinete</td>\n      <td>Copacabana</td>\n      <td>1</td>\n      <td>0</td>\n      <td>0</td>\n      <td>40</td>\n      <td>1700.0</td>\n      <td>500.0</td>\n      <td>60.0</td>\n      <td>2200.0</td>\n      <td>26460.0</td>\n      <td>Quitinete em Copacabana com 1 quarto(s)  e 0 v...</td>\n    </tr>\n    <tr>\n      <th>1</th>\n      <td>Casa</td>\n      <td>Jardim Botânico</td>\n      <td>2</td>\n      <td>0</td>\n      <td>1</td>\n      <td>100</td>\n      <td>7000.0</td>\n      <td>0.0</td>\n      <td>0.0</td>\n      <td>7000.0</td>\n      <td>84000.0</td>\n      <td>Casa em Jardim Botânico com 2 quarto(s)  e 0 v...</td>\n    </tr>\n    <tr>\n      <th>2</th>\n      <td>Conjunto Comercial/Sala</td>\n      <td>Barra da Tijuca</td>\n      <td>0</td>\n      <td>4</td>\n      <td>0</td>\n      <td>150</td>\n      <td>5200.0</td>\n      <td>4020.0</td>\n      <td>1111.0</td>\n      <td>9220.0</td>\n      <td>111751.0</td>\n      <td>Conjunto Comercial/Sala em Barra da Tijuca com...</td>\n    </tr>\n    <tr>\n      <th>3</th>\n      <td>Apartamento</td>\n      <td>Centro</td>\n      <td>1</td>\n      <td>0</td>\n      <td>0</td>\n      <td>15</td>\n      <td>800.0</td>\n      <td>390.0</td>\n      <td>20.0</td>\n      <td>1190.0</td>\n      <td>14300.0</td>\n      <td>Apartamento em Centro com 1 quarto(s)  e 0 vag...</td>\n    </tr>\n    <tr>\n      <th>4</th>\n      <td>Apartamento</td>\n      <td>Higienópolis</td>\n      <td>1</td>\n      <td>0</td>\n      <td>0</td>\n      <td>48</td>\n      <td>800.0</td>\n      <td>230.0</td>\n      <td>0.0</td>\n      <td>1030.0</td>\n      <td>12360.0</td>\n      <td>Apartamento em Higienópolis com 1 quarto(s)  e...</td>\n    </tr>\n  </tbody>\n</table>\n</div>"
     },
     "execution_count": 112,
     "metadata": {},
     "output_type": "execute_result"
    }
   ],
   "source": [
    "dados['Descricao'] = dados['Tipo'] + ' em ' + dados['Bairro'] + ' com ' + \\\n",
    "                                        dados['Quartos'].astype(str) + ' quarto(s) ' + \\\n",
    "                                        ' e ' + dados['Vagas'].astype(str) + ' vaga(s) de garagem.'\n",
    "dados.head()\n"
   ]
  },
  {
   "cell_type": "code",
   "execution_count": 113,
   "metadata": {
    "ExecuteTime": {
     "end_time": "2024-03-07T22:40:53.740769200Z",
     "start_time": "2024-03-07T22:40:53.274384700Z"
    }
   },
   "outputs": [
    {
     "data": {
      "text/plain": "0    Quitinete em Copacabana com 1 quarto(s)  e 0 v...\n1    Casa em Jardim Botânico com 2 quarto(s)  e 0 v...\n2    Conjunto Comercial/Sala em Barra da Tijuca com...\n3    Apartamento em Centro com 1 quarto(s)  e 0 vag...\n4    Apartamento em Higienópolis com 1 quarto(s)  e...\nName: Descricao, dtype: object"
     },
     "execution_count": 113,
     "metadata": {},
     "output_type": "execute_result"
    }
   ],
   "source": [
    "dados['Descricao'].head()"
   ]
  },
  {
   "cell_type": "markdown",
   "metadata": {},
   "source": [
    "# Criando uma coluna binária"
   ]
  },
  {
   "cell_type": "code",
   "execution_count": 114,
   "metadata": {
    "ExecuteTime": {
     "end_time": "2024-03-07T22:40:53.753733500Z",
     "start_time": "2024-03-07T22:40:53.281147300Z"
    }
   },
   "outputs": [
    {
     "data": {
      "text/plain": "                      Tipo           Bairro  Quartos  Vagas  Suites  Area  \\\n0                Quitinete       Copacabana        1      0       0    40   \n1                     Casa  Jardim Botânico        2      0       1   100   \n2  Conjunto Comercial/Sala  Barra da Tijuca        0      4       0   150   \n3              Apartamento           Centro        1      0       0    15   \n4              Apartamento     Higienópolis        1      0       0    48   \n\n    Valor  Condominio    IPTU  Valor_por_mes  Valor_por_ano  \\\n0  1700.0       500.0    60.0         2200.0        26460.0   \n1  7000.0         0.0     0.0         7000.0        84000.0   \n2  5200.0      4020.0  1111.0         9220.0       111751.0   \n3   800.0       390.0    20.0         1190.0        14300.0   \n4   800.0       230.0     0.0         1030.0        12360.0   \n\n                                           Descricao Possui_suite  \n0  Quitinete em Copacabana com 1 quarto(s)  e 0 v...          Não  \n1  Casa em Jardim Botânico com 2 quarto(s)  e 0 v...          Sim  \n2  Conjunto Comercial/Sala em Barra da Tijuca com...          Não  \n3  Apartamento em Centro com 1 quarto(s)  e 0 vag...          Não  \n4  Apartamento em Higienópolis com 1 quarto(s)  e...          Não  ",
      "text/html": "<div>\n<style scoped>\n    .dataframe tbody tr th:only-of-type {\n        vertical-align: middle;\n    }\n\n    .dataframe tbody tr th {\n        vertical-align: top;\n    }\n\n    .dataframe thead th {\n        text-align: right;\n    }\n</style>\n<table border=\"1\" class=\"dataframe\">\n  <thead>\n    <tr style=\"text-align: right;\">\n      <th></th>\n      <th>Tipo</th>\n      <th>Bairro</th>\n      <th>Quartos</th>\n      <th>Vagas</th>\n      <th>Suites</th>\n      <th>Area</th>\n      <th>Valor</th>\n      <th>Condominio</th>\n      <th>IPTU</th>\n      <th>Valor_por_mes</th>\n      <th>Valor_por_ano</th>\n      <th>Descricao</th>\n      <th>Possui_suite</th>\n    </tr>\n  </thead>\n  <tbody>\n    <tr>\n      <th>0</th>\n      <td>Quitinete</td>\n      <td>Copacabana</td>\n      <td>1</td>\n      <td>0</td>\n      <td>0</td>\n      <td>40</td>\n      <td>1700.0</td>\n      <td>500.0</td>\n      <td>60.0</td>\n      <td>2200.0</td>\n      <td>26460.0</td>\n      <td>Quitinete em Copacabana com 1 quarto(s)  e 0 v...</td>\n      <td>Não</td>\n    </tr>\n    <tr>\n      <th>1</th>\n      <td>Casa</td>\n      <td>Jardim Botânico</td>\n      <td>2</td>\n      <td>0</td>\n      <td>1</td>\n      <td>100</td>\n      <td>7000.0</td>\n      <td>0.0</td>\n      <td>0.0</td>\n      <td>7000.0</td>\n      <td>84000.0</td>\n      <td>Casa em Jardim Botânico com 2 quarto(s)  e 0 v...</td>\n      <td>Sim</td>\n    </tr>\n    <tr>\n      <th>2</th>\n      <td>Conjunto Comercial/Sala</td>\n      <td>Barra da Tijuca</td>\n      <td>0</td>\n      <td>4</td>\n      <td>0</td>\n      <td>150</td>\n      <td>5200.0</td>\n      <td>4020.0</td>\n      <td>1111.0</td>\n      <td>9220.0</td>\n      <td>111751.0</td>\n      <td>Conjunto Comercial/Sala em Barra da Tijuca com...</td>\n      <td>Não</td>\n    </tr>\n    <tr>\n      <th>3</th>\n      <td>Apartamento</td>\n      <td>Centro</td>\n      <td>1</td>\n      <td>0</td>\n      <td>0</td>\n      <td>15</td>\n      <td>800.0</td>\n      <td>390.0</td>\n      <td>20.0</td>\n      <td>1190.0</td>\n      <td>14300.0</td>\n      <td>Apartamento em Centro com 1 quarto(s)  e 0 vag...</td>\n      <td>Não</td>\n    </tr>\n    <tr>\n      <th>4</th>\n      <td>Apartamento</td>\n      <td>Higienópolis</td>\n      <td>1</td>\n      <td>0</td>\n      <td>0</td>\n      <td>48</td>\n      <td>800.0</td>\n      <td>230.0</td>\n      <td>0.0</td>\n      <td>1030.0</td>\n      <td>12360.0</td>\n      <td>Apartamento em Higienópolis com 1 quarto(s)  e...</td>\n      <td>Não</td>\n    </tr>\n  </tbody>\n</table>\n</div>"
     },
     "execution_count": 114,
     "metadata": {},
     "output_type": "execute_result"
    }
   ],
   "source": [
    "dados['Possui_suite'] = dados['Suites'].apply(lambda x: \"Sim\" if x > 0 else \"Não\")\n",
    "dados.head()"
   ]
  },
  {
   "cell_type": "code",
   "execution_count": 118,
   "metadata": {
    "ExecuteTime": {
     "end_time": "2024-03-07T22:47:26.435550600Z",
     "start_time": "2024-03-07T22:47:26.235661600Z"
    }
   },
   "outputs": [],
   "source": [
    "dados.to_csv('dados_completos_dev.csv', index=False, sep=';')"
   ]
  }
 ],
 "metadata": {
  "kernelspec": {
   "display_name": "Python 3",
   "language": "python",
   "name": "python3"
  },
  "language_info": {
   "codemirror_mode": {
    "name": "ipython",
    "version": 3
   },
   "file_extension": ".py",
   "mimetype": "text/x-python",
   "name": "python",
   "nbconvert_exporter": "python",
   "pygments_lexer": "ipython3",
   "version": "3.12.0"
  }
 },
 "nbformat": 4,
 "nbformat_minor": 2
}
